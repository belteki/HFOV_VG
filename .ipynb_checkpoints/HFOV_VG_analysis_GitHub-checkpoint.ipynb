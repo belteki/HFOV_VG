{
 "cells": [
  {
   "cell_type": "markdown",
   "metadata": {},
   "source": [
    "![alt text](./pageheader_rose2_babies.jpg)"
   ]
  },
  {
   "cell_type": "markdown",
   "metadata": {},
   "source": [
    "# Analysis of HFOV-VG data"
   ]
  },
  {
   "cell_type": "markdown",
   "metadata": {},
   "source": [
    "**Author: Dr Gusztav Belteki**\n",
    "\n",
    "Contact: gbelteki@aol.com"
   ]
  },
  {
   "cell_type": "markdown",
   "metadata": {
    "collapsed": true
   },
   "source": [
    "This Notebook imports the pickle archive produced by **HFOV_VG.ipynb**: *slow_measurements_hfov_vg* *vent_settings_selected_hfov_vg*, *clinical_details_hfov_vg*. It analyses these HFOV-VG data. It generates the data and illustration presented in the following paper:\n",
    "\n",
    "Belteki G, Morley CJ. **High-frequency oscillatory ventilation with volume\n",
    "guarantee: a single-centre experience.** _Arch Dis Child Fetal Neonatal Ed._\n",
    "2019 Jul;104(4):F384-F389. doi: 10.1136/archdischild-2018-315490.\n",
    "Epub 2018 Sep 14. PubMed PMID: 30217870.\n",
    "\n",
    "Link to the paper: https://fn.bmj.com/content/104/4/F384.abstract\n"
   ]
  },
  {
   "cell_type": "markdown",
   "metadata": {},
   "source": [
    "### Import the necessary libraries and setting options"
   ]
  },
  {
   "cell_type": "code",
   "execution_count": null,
   "metadata": {},
   "outputs": [],
   "source": [
    "import IPython\n",
    "import pandas as pd\n",
    "import numpy as np\n",
    "import scipy as sp\n",
    "import matplotlib as mpl\n",
    "import matplotlib.pyplot as plt\n",
    "import seaborn as sns\n",
    "import sklearn as sk\n",
    "\n",
    "import os\n",
    "import sys\n",
    "import re\n",
    "import pickle\n",
    "\n",
    "from scipy import stats\n",
    "from pandas import Series, DataFrame\n",
    "from datetime import datetime, timedelta\n",
    "\n",
    "%matplotlib inline\n",
    "\n",
    "mpl.style.use('classic')\n",
    "mpl.rcParams['figure.facecolor'] = 'w'\n",
    "\n",
    "pd.set_option('display.max_rows', 100)\n",
    "pd.set_option('display.max_columns', 100)\n"
   ]
  },
  {
   "cell_type": "code",
   "execution_count": null,
   "metadata": {},
   "outputs": [],
   "source": [
    "print(\"Python version: {}\".format(sys.version))\n",
    "print(\"pandas version: {}\".format(pd.__version__))\n",
    "print(\"matplotlib version: {}\".format(mpl.__version__))\n",
    "print(\"NumPy version: {}\".format(np.__version__))\n",
    "print(\"SciPy version: {}\".format(sp.__version__))\n",
    "print(\"IPython version: {}\".format(IPython.__version__))\n",
    "print(\"scikit-learn version: {}\".format(sk.__version__))"
   ]
  },
  {
   "cell_type": "markdown",
   "metadata": {},
   "source": [
    "### Import custom functions from own module"
   ]
  },
  {
   "cell_type": "code",
   "execution_count": null,
   "metadata": {},
   "outputs": [],
   "source": [
    "from gb_loader import *\n",
    "from gb_stats import *\n",
    "from gb_transform import *\n",
    "from gb_visualizer import *"
   ]
  },
  {
   "cell_type": "markdown",
   "metadata": {},
   "source": [
    "### List and set the working directory and the directory to write out data"
   ]
  },
  {
   "cell_type": "code",
   "execution_count": null,
   "metadata": {},
   "outputs": [],
   "source": [
    "# Topic of the Notebook which will also be the name of the subfolder containing results\n",
    "TOPIC = 'HFOV_VG'\n",
    "\n",
    "# Name of the external hard drive\n",
    "DRIVE = 'GUSZTI'\n",
    "\n",
    "# Directory containing clinical and blood gas data\n",
    "CWD = '/Users/guszti/ventilation_draeger'\n",
    "\n",
    "# Directory on external drive to read the ventilation data from\n",
    "DIR_READ = '/Volumes/%s/ventilation_data' % DRIVE\n",
    "\n",
    "# Directory on external drive to read in dump large datasets\n",
    "DIR_READ_2 = '/Volumes/%s/data_dump/draeger/%s' % (DRIVE, 'HFOV_all')\n",
    "\n",
    "# Directory to write results and selected images to \n",
    "if not os.path.isdir('%s/%s/%s' % (CWD, 'Analyses', TOPIC)):\n",
    "    os.makedirs('%s/%s/%s' % (CWD, 'Analyses', TOPIC))\n",
    "DIR_WRITE = '%s/%s/%s' % (CWD, 'Analyses', TOPIC)\n",
    "\n",
    "# Images and raw data will be written on an external hard drive\n",
    "if not os.path.isdir('/Volumes/%s/data_dump/draeger/%s' % (DRIVE, TOPIC)):\n",
    "    os.makedirs('/Volumes/%s/data_dump/draeger/%s' % (DRIVE, TOPIC))\n",
    "DATA_DUMP = '/Volumes/%s/data_dump/draeger/%s' % (DRIVE, TOPIC)"
   ]
  },
  {
   "cell_type": "code",
   "execution_count": null,
   "metadata": {},
   "outputs": [],
   "source": [
    "os.chdir(CWD)"
   ]
  },
  {
   "cell_type": "code",
   "execution_count": null,
   "metadata": {},
   "outputs": [],
   "source": [
    "os.getcwd()"
   ]
  },
  {
   "cell_type": "code",
   "execution_count": null,
   "metadata": {},
   "outputs": [],
   "source": [
    "DIR_READ"
   ]
  },
  {
   "cell_type": "code",
   "execution_count": null,
   "metadata": {},
   "outputs": [],
   "source": [
    "DIR_WRITE"
   ]
  },
  {
   "cell_type": "code",
   "execution_count": null,
   "metadata": {},
   "outputs": [],
   "source": [
    "DATA_DUMP"
   ]
  },
  {
   "cell_type": "markdown",
   "metadata": {},
   "source": [
    "### Import data from `pickle` archives"
   ]
  },
  {
   "cell_type": "code",
   "execution_count": null,
   "metadata": {},
   "outputs": [],
   "source": [
    "with open('%s/%s.pickle' % (DATA_DUMP, 'slow_measurements_hfov_vg'), 'rb') as handle:\n",
    "    slow_measurements = pickle.load(handle)"
   ]
  },
  {
   "cell_type": "code",
   "execution_count": null,
   "metadata": {},
   "outputs": [],
   "source": [
    "with open('%s/%s.pickle' % (DATA_DUMP, 'vent_settings_selected_hfov_vg'), 'rb') as handle:\n",
    "    vent_settings = pickle.load(handle)"
   ]
  },
  {
   "cell_type": "code",
   "execution_count": null,
   "metadata": {},
   "outputs": [],
   "source": [
    "with open('%s/%s.pickle' % (DATA_DUMP, 'clinical_details_hfov_vg'), 'rb') as handle:\n",
    "    clinical_details = pickle.load(handle)"
   ]
  },
  {
   "cell_type": "code",
   "execution_count": null,
   "metadata": {
    "scrolled": true
   },
   "outputs": [],
   "source": [
    "# List of HFOV-VG recordings\n",
    "\n",
    "recordings = sorted(slow_measurements.keys())\n",
    "print(recordings)"
   ]
  },
  {
   "cell_type": "code",
   "execution_count": null,
   "metadata": {},
   "outputs": [],
   "source": [
    "len(recordings)"
   ]
  },
  {
   "cell_type": "markdown",
   "metadata": {},
   "source": [
    "### Calculate individual and combined length of all recordings"
   ]
  },
  {
   "cell_type": "code",
   "execution_count": null,
   "metadata": {
    "scrolled": false
   },
   "outputs": [],
   "source": [
    "recording_times =[(recording, round((len(slow_measurements[recording]) / 3600), 2)) \n",
    "                  for recording in recordings]\n",
    "recording_times = DataFrame(recording_times, columns = ['recording', 'duration (hours)'])\n",
    "recording_times.set_index('recording', inplace = True)\n",
    "recording_times"
   ]
  },
  {
   "cell_type": "code",
   "execution_count": null,
   "metadata": {},
   "outputs": [],
   "source": [
    "recording_time_total = 0\n",
    "\n",
    "for recording in recordings:\n",
    "    recording_time_total += len(slow_measurements[recording])\n",
    "print('Total recording time is %d seconds' % recording_time_total)\n",
    "print('Total recording time is %d hours' % (recording_time_total / 3600))\n",
    "print('Total recording time is %.2f days' % (recording_time_total / 86400))"
   ]
  },
  {
   "cell_type": "markdown",
   "metadata": {},
   "source": [
    "### Statistics and graphs about the clinical data"
   ]
  },
  {
   "cell_type": "code",
   "execution_count": null,
   "metadata": {},
   "outputs": [],
   "source": [
    "fig, (ax1, ax2) = plt.subplots(1, 2, figsize = (8,3))\n",
    "ax1.hist(clinical_details['Gestation'], color = 'black', alpha = 0.75)\n",
    "ax1.set_title('Gestation')\n",
    "ax1.set_xlabel('weeks')\n",
    "ax1.set_ylabel('recordings')\n",
    "\n",
    "ax2.hist(clinical_details['Corrected gestation'], color = 'black', alpha = 0.75)\n",
    "ax2.set_title('Corrected gestation')\n",
    "ax2.set_xlabel('weeks')\n",
    "\n",
    "plt.tight_layout()\n",
    "\n",
    "fig.savefig('%s/%s.%s' % (DIR_WRITE, 'clinical_details_gestation', 'jpg'),\n",
    "    dpi = 300, facecolor='w', edgecolor='w', orientation='portrait', papertype=None, format = 'jpg',\n",
    "    transparent=False, bbox_inches=None, pad_inches=0.1, frameon=True);"
   ]
  },
  {
   "cell_type": "code",
   "execution_count": null,
   "metadata": {},
   "outputs": [],
   "source": [
    "fig, (ax1, ax2) = plt.subplots(1, 2, figsize = (8,3))\n",
    "ax1.hist(clinical_details['Birth weight'], color = 'black', alpha = 0.75)\n",
    "ax1.set_title('Birth weight')\n",
    "ax1.set_xlabel('grams')\n",
    "ax1.set_ylabel('recordings')\n",
    "\n",
    "ax2.hist(clinical_details['Current weight'], color = 'black', alpha = 0.75)\n",
    "ax2.set_title('Current weight')\n",
    "ax2.set_xlabel('grams')\n",
    "\n",
    "plt.tight_layout()\n",
    "\n",
    "fig.savefig('%s/%s.%s' % (DIR_WRITE, 'clinical_details_weight', 'jpg'),\n",
    "    dpi = 300, facecolor='w', edgecolor='w', orientation='portrait', papertype=None, format = 'jpg',\n",
    "    transparent=False, bbox_inches=None, pad_inches=0.1, frameon=True);"
   ]
  },
  {
   "cell_type": "code",
   "execution_count": null,
   "metadata": {},
   "outputs": [],
   "source": [
    "pars = ['Gestation', 'Corrected gestation', 'Birth weight', 'Current weight']\n",
    "\n",
    "clin_details_stats = round(DataFrame([clinical_details[pars].median(),\n",
    "                                     clinical_details[pars].min(),\n",
    "                                     clinical_details[pars].max()]).T, 2)\n",
    "clin_details_stats.columns = ['median', 'min', 'max']\n",
    "clinical_details_stats = np.floor(clin_details_stats)"
   ]
  },
  {
   "cell_type": "code",
   "execution_count": null,
   "metadata": {
    "scrolled": true
   },
   "outputs": [],
   "source": [
    "clinical_details_stats"
   ]
  },
  {
   "cell_type": "code",
   "execution_count": null,
   "metadata": {},
   "outputs": [],
   "source": [
    "len(clinical_details[clinical_details['Current weight'] < 1000])"
   ]
  },
  {
   "cell_type": "code",
   "execution_count": null,
   "metadata": {},
   "outputs": [],
   "source": [
    "len(clinical_details[clinical_details['Current weight'] < 2000])"
   ]
  },
  {
   "cell_type": "code",
   "execution_count": null,
   "metadata": {},
   "outputs": [],
   "source": [
    "len(clinical_details[clinical_details['Current weight'] >= 2000])"
   ]
  },
  {
   "cell_type": "code",
   "execution_count": null,
   "metadata": {},
   "outputs": [],
   "source": [
    "writer = pd.ExcelWriter('%s/%s' % (DIR_WRITE, 'clinical_details_stats.xlsx'))\n",
    "clinical_details_stats.to_excel(writer,'clinical details')\n",
    "writer.save()"
   ]
  },
  {
   "cell_type": "markdown",
   "metadata": {},
   "source": [
    "# Ventilation"
   ]
  },
  {
   "cell_type": "markdown",
   "metadata": {},
   "source": [
    "## Analyse all data points together"
   ]
  },
  {
   "cell_type": "markdown",
   "metadata": {},
   "source": [
    "### Combine individual recordings to one"
   ]
  },
  {
   "cell_type": "code",
   "execution_count": null,
   "metadata": {},
   "outputs": [],
   "source": [
    "total = []\n",
    "for recording in recordings:\n",
    "    total.append(slow_measurements[recording])\n",
    "slow_measurements_all = pd.concat(total)"
   ]
  },
  {
   "cell_type": "code",
   "execution_count": null,
   "metadata": {},
   "outputs": [],
   "source": [
    "len(slow_measurements_all)"
   ]
  },
  {
   "cell_type": "markdown",
   "metadata": {},
   "source": [
    "### Visualize the distribution of various ventilator parameters"
   ]
  },
  {
   "cell_type": "markdown",
   "metadata": {},
   "source": [
    "### Tidal volume of high frequency oscillations (weight-corrected): VThf_kg"
   ]
  },
  {
   "cell_type": "code",
   "execution_count": null,
   "metadata": {},
   "outputs": [],
   "source": [
    "qcats_VThf_kg = pd.qcut(slow_measurements_all.VThf_kg, q = 10,)\n",
    "qcats_VThf_kg.value_counts().sort_index()"
   ]
  },
  {
   "cell_type": "code",
   "execution_count": null,
   "metadata": {},
   "outputs": [],
   "source": [
    "bins = list(range(0, 7, 1))\n",
    "cats_VThf_kg = pd.cut(slow_measurements_all.VThf_kg, bins, right = False)\n",
    "cats_VThf_kg.value_counts().sort_index()"
   ]
  },
  {
   "cell_type": "code",
   "execution_count": null,
   "metadata": {},
   "outputs": [],
   "source": [
    "fig, ax = plt.subplots(figsize = [8,6])\n",
    "cats_VThf_kg.value_counts().sort_index().plot(kind = 'bar', logy = False, \n",
    "                        title = 'VThf_kg', color = 'black', alpha = 0.7, fontsize = 14)\n",
    "ax.set_xlabel('range (mL/kg)', size = 14)\n",
    "ax.set_ylabel('number of seconds', size = 14)\n",
    "plt.grid()\n",
    "plt.tight_layout()\n",
    "\n",
    "fig.savefig('%s/%s.%s' % (DIR_WRITE, 'VThf_kg_distr_all_lin', 'jpg'),\n",
    "    dpi = 300, facecolor='w', edgecolor='w', orientation='portrait', papertype=None, format = 'jpg',\n",
    "    transparent=False, bbox_inches=None, pad_inches=0.1, frameon=True);"
   ]
  },
  {
   "cell_type": "code",
   "execution_count": null,
   "metadata": {},
   "outputs": [],
   "source": [
    "fig, ax = plt.subplots(figsize = [8,6])\n",
    "cats_VThf_kg.value_counts().sort_index().plot(kind = 'bar', logy = True, \n",
    "                        title = 'VThf_kg', color = 'black', alpha = 0.7, fontsize = 14)\n",
    "ax.set_xlabel('range (mL/kg)', size = 14)\n",
    "ax.set_ylabel('number of seconds', size = 14)\n",
    "plt.grid('on')\n",
    "plt.tight_layout()\n",
    "\n",
    "fig.savefig('%s/%s.%s' % (DIR_WRITE, 'VThf_kg_distr_all_logy', 'jpg'),\n",
    "    dpi = 300, facecolor='w', edgecolor='w', orientation='portrait', papertype=None, format = 'jpg',\n",
    "    transparent=False, bbox_inches=None, pad_inches=0.1, frameon=True);"
   ]
  },
  {
   "cell_type": "markdown",
   "metadata": {},
   "source": [
    "#### Zoom in to 0 < VThf < 4 mL/kg"
   ]
  },
  {
   "cell_type": "code",
   "execution_count": null,
   "metadata": {},
   "outputs": [],
   "source": [
    "bins = list(np.arange(0, 4.1 ,0.5))\n",
    "cats_VThf_kg_zoom = pd.cut(slow_measurements_all.VThf_kg, bins = bins, right = False)\n",
    "cats_VThf_kg_zoom.value_counts().sort_index()"
   ]
  },
  {
   "cell_type": "code",
   "execution_count": null,
   "metadata": {},
   "outputs": [],
   "source": [
    "fig, ax = plt.subplots(figsize = [8,6])\n",
    "cats_VThf_kg_zoom.value_counts().sort_index().plot(kind = 'bar', logy = False, \n",
    "                        title = 'VThf_kg', color = 'black', alpha = 0.7, fontsize = 14)\n",
    "ax.set_xlabel('range (mL/kg)', size = 14)\n",
    "ax.set_ylabel('number of seconds', size = 14)\n",
    "plt.grid('on')\n",
    "plt.tight_layout()\n",
    "\n",
    "fig.savefig('%s/%s.%s' % (DIR_WRITE, 'VThf_kg_distr_zoom_lin', 'jpg'),\n",
    "    dpi = 300, facecolor='w', edgecolor='w', orientation='portrait', papertype=None, format = 'jpg',\n",
    "    transparent=False, bbox_inches=None, pad_inches=0.1, frameon=True);"
   ]
  },
  {
   "cell_type": "code",
   "execution_count": null,
   "metadata": {},
   "outputs": [],
   "source": [
    "bins = [0, 0.5] + list(np.arange(1, 3.6 , 0.2)) + [3.5, 4]\n",
    "cats_VThf_kg_zoom_3 = pd.cut(slow_measurements_all.VThf_kg, bins = bins, right = False)\n",
    "cats_VThf_kg_zoom_3.value_counts().sort_index()"
   ]
  },
  {
   "cell_type": "code",
   "execution_count": null,
   "metadata": {},
   "outputs": [],
   "source": [
    "fig, ax = plt.subplots(figsize = [8,6])\n",
    "cats_VThf_kg_zoom_3.value_counts().sort_index().plot(kind = 'bar', logy = False, \n",
    "                        title = 'VThf_kg', color = 'black', alpha = 0.7, fontsize = 14)\n",
    "ax.set_xlabel('range (mL/kg)', size = 14)\n",
    "ax.set_ylabel('number of seconds', size = 14)\n",
    "plt.grid('on')\n",
    "plt.tight_layout()\n",
    "\n",
    "fig.savefig('%s/%s.%s' % (DIR_WRITE, 'VThf_distr_zoom_2_lin', 'jpg'),\n",
    "    dpi = 300, facecolor='w', edgecolor='w', orientation='portrait', papertype=None, format = 'jpg',\n",
    "    transparent=False, bbox_inches=None, pad_inches=0.1, frameon=True);"
   ]
  },
  {
   "cell_type": "markdown",
   "metadata": {},
   "source": [
    "#### Some basic statistics about VThf for paper"
   ]
  },
  {
   "cell_type": "code",
   "execution_count": null,
   "metadata": {},
   "outputs": [],
   "source": [
    "len(slow_measurements_all[(slow_measurements_all['VThf_kg'] >= 1.5) & (slow_measurements_all['VThf_kg'] < 2)]) /\\\n",
    "len(slow_measurements_all) * 100"
   ]
  },
  {
   "cell_type": "code",
   "execution_count": null,
   "metadata": {},
   "outputs": [],
   "source": [
    "len(slow_measurements_all[(slow_measurements_all['VThf_kg'] >= 2) & (slow_measurements_all['VThf_kg'] < 2.5)]) /\\\n",
    "len(slow_measurements_all) * 100"
   ]
  },
  {
   "cell_type": "code",
   "execution_count": null,
   "metadata": {
    "scrolled": true
   },
   "outputs": [],
   "source": [
    "len(slow_measurements_all[slow_measurements_all['VThf_diff_kg'] < 0.2]) / len(slow_measurements_all) * 100"
   ]
  },
  {
   "cell_type": "code",
   "execution_count": null,
   "metadata": {
    "scrolled": true
   },
   "outputs": [],
   "source": [
    "len(slow_measurements_all[slow_measurements_all['VThf_diff_kg'] < 0.5]) / len(slow_measurements_all) * 100"
   ]
  },
  {
   "cell_type": "markdown",
   "metadata": {},
   "source": [
    "### Target tidal volume of oscillations: VThf_set_kg"
   ]
  },
  {
   "cell_type": "code",
   "execution_count": null,
   "metadata": {},
   "outputs": [],
   "source": [
    "qcats_VThf_set_kg = pd.qcut(slow_measurements_all.VThf_set_kg, q = 10,)\n",
    "qcats_VThf_set_kg.value_counts().sort_index()"
   ]
  },
  {
   "cell_type": "code",
   "execution_count": null,
   "metadata": {},
   "outputs": [],
   "source": [
    "bins = list(np.arange(1, 4.5, 0.5))\n",
    "cats_VThf_set_kg = pd.cut(slow_measurements_all.VThf_set_kg, bins, right = False)\n",
    "cats_VThf_set_kg.value_counts().sort_index()"
   ]
  },
  {
   "cell_type": "code",
   "execution_count": null,
   "metadata": {
    "scrolled": false
   },
   "outputs": [],
   "source": [
    "fig, ax = plt.subplots(figsize = [8,6])\n",
    "cats_VThf_set_kg.value_counts().sort_index().plot(kind = 'bar', logy = False, \n",
    "                        title = 'VThf_set_kg', color = 'black', alpha = 0.7, fontsize = 14)\n",
    "ax.set_xlabel('range (mL/kg)', size = 14)\n",
    "ax.set_ylabel('number of seconds', size = 14)\n",
    "plt.grid('on')\n",
    "plt.tight_layout()\n",
    "\n",
    "fig.savefig('%s/%s.%s' % (DIR_WRITE, 'VThf_set_kg_distr_all_lin', 'jpg'),\n",
    "    dpi = 300, facecolor='w', edgecolor='w', orientation='portrait', papertype=None, format = 'jpg',\n",
    "    transparent=False, bbox_inches=None, pad_inches=0.1, frameon=True);"
   ]
  },
  {
   "cell_type": "markdown",
   "metadata": {},
   "source": [
    "### Difference betweeh the actual and the targeted tidal volume: VThf_diff_kg"
   ]
  },
  {
   "cell_type": "code",
   "execution_count": null,
   "metadata": {},
   "outputs": [],
   "source": [
    "bins = list(np.arange(0, 4.5, 0.5))\n",
    "cats_VThf_diff_kg = pd.cut(slow_measurements_all.VThf_diff_kg, bins, right = False)\n",
    "cats_VThf_diff_kg.value_counts().sort_index()"
   ]
  },
  {
   "cell_type": "code",
   "execution_count": null,
   "metadata": {},
   "outputs": [],
   "source": [
    "fig, ax = plt.subplots(figsize = [8,6])\n",
    "cats_VThf_diff_kg.value_counts().sort_index().plot(kind = 'bar', logy = False, \n",
    "                        title = 'VThf_diff_kg', color = 'black', alpha = 0.7, fontsize = 14)\n",
    "ax.set_xlabel('range (mL/kg)', size = 14)\n",
    "ax.set_ylabel('number of seconds', size = 14)\n",
    "plt.grid('on')\n",
    "plt.tight_layout()\n",
    "\n",
    "fig.savefig('%s/%s.%s' % (DIR_WRITE, 'VThf_diff_kg_distr_all_lin', 'jpg'),\n",
    "    dpi = 300, facecolor='w', edgecolor='w', orientation='portrait', papertype=None, format = 'jpg',\n",
    "    transparent=False, bbox_inches=None, pad_inches=0.1, frameon=True);"
   ]
  },
  {
   "cell_type": "code",
   "execution_count": null,
   "metadata": {},
   "outputs": [],
   "source": [
    "fig, ax = plt.subplots(figsize = [8,6])\n",
    "cats_VThf_diff_kg.value_counts().sort_index().plot(kind = 'bar', logy = True, \n",
    "                        title = 'VThf_diff_kg', color = 'black', alpha = 0.7, fontsize = 14)\n",
    "ax.set_xlabel('range (mL/kg)', size = 14)\n",
    "ax.set_ylabel('number of seconds', size = 14)\n",
    "plt.grid('on')\n",
    "plt.tight_layout()\n",
    "\n",
    "fig.savefig('%s/%s.%s' % (DIR_WRITE, 'VThf_diff_kg_distr_all_log', 'jpg'),\n",
    "    dpi = 300, facecolor='w', edgecolor='w', orientation='portrait', papertype=None, format = 'jpg',\n",
    "    transparent=False, bbox_inches=None, pad_inches=0.1, frameon=True);"
   ]
  },
  {
   "cell_type": "markdown",
   "metadata": {},
   "source": [
    "##### Use custom X scale"
   ]
  },
  {
   "cell_type": "code",
   "execution_count": null,
   "metadata": {
    "scrolled": true
   },
   "outputs": [],
   "source": [
    "bins = [0, 0.1, 0.2, 0.3, 0.4, 0.5, 1, 2, 4]\n",
    "cats_VThf_diff_kg = pd.cut(slow_measurements_all.VThf_diff_kg, bins, right = False)\n",
    "cats_VThf_diff_kg.value_counts().sort_index()"
   ]
  },
  {
   "cell_type": "code",
   "execution_count": null,
   "metadata": {},
   "outputs": [],
   "source": [
    "fig, ax = plt.subplots(figsize = [8,6])\n",
    "cats_VThf_diff_kg.value_counts().sort_index().plot(kind = 'bar', logy = False, \n",
    "                        title = 'VThf_diff_kg', color = 'black', alpha = 0.7, fontsize = 14)\n",
    "ax.set_xlabel('range (mL/kg)', size = 14)\n",
    "ax.set_ylabel('number of seconds', size = 14)\n",
    "plt.grid('on')\n",
    "plt.tight_layout()\n",
    "\n",
    "fig.savefig('%s/%s.%s' % (DIR_WRITE, 'VThf_diff_kg_distr_all_2_lin', 'jpg'),\n",
    "    dpi = 300, facecolor='w', edgecolor='w', orientation='portrait', papertype=None, format = 'jpg',\n",
    "    transparent=False, bbox_inches=None, pad_inches=0.1, frameon=True);"
   ]
  },
  {
   "cell_type": "code",
   "execution_count": null,
   "metadata": {},
   "outputs": [],
   "source": [
    "fig, ax = plt.subplots(figsize = [8,6])\n",
    "cats_VThf_diff_kg.value_counts().sort_index().plot(kind = 'bar', logy = True, \n",
    "                        title = 'VThf_diff_kg', color = 'black', alpha = 0.7, fontsize = 14)\n",
    "ax.set_xlabel('range (mL/kg)', size = 14)\n",
    "ax.set_ylabel('number of seconds', size = 14)\n",
    "plt.grid('on')\n",
    "plt.tight_layout()\n",
    "\n",
    "fig.savefig('%s/%s.%s' % (DIR_WRITE, 'VThf_diff_kg_distr_all_2_log', 'jpg'),\n",
    "    dpi = 300, facecolor='w', edgecolor='w', orientation='portrait', papertype=None, format = 'jpg',\n",
    "    transparent=False, bbox_inches=None, pad_inches=0.1, frameon=True);"
   ]
  },
  {
   "cell_type": "markdown",
   "metadata": {},
   "source": [
    "### Pressure amplitude (\"delta P)"
   ]
  },
  {
   "cell_type": "code",
   "execution_count": null,
   "metadata": {},
   "outputs": [],
   "source": [
    "bins = list(np.arange(0, 65, 5))\n",
    "cats_amplitude = pd.cut(slow_measurements_all.amplitude, bins, right = False)\n",
    "cats_amplitude.value_counts().sort_index()"
   ]
  },
  {
   "cell_type": "code",
   "execution_count": null,
   "metadata": {},
   "outputs": [],
   "source": [
    "fig, ax = plt.subplots(figsize = [8,6])\n",
    "cats_amplitude.value_counts().sort_index().plot(kind = 'bar', logy = False, \n",
    "                        title = 'amplitude', color = 'black', alpha = 0.7, fontsize = 14)\n",
    "ax.set_xlabel('range (mbar)', size = 14)\n",
    "ax.set_ylabel('number of seconds', size = 14)\n",
    "plt.grid('on')\n",
    "plt.tight_layout()\n",
    "\n",
    "fig.savefig('%s/%s.%s' % (DIR_WRITE, 'amplitude', 'jpg'),\n",
    "    dpi = 300, facecolor='w', edgecolor='w', orientation='portrait', papertype=None, format = 'jpg',\n",
    "    transparent=False, bbox_inches=None, pad_inches=0.1, frameon=True);"
   ]
  },
  {
   "cell_type": "markdown",
   "metadata": {},
   "source": [
    "### Difference between deltaP and the maximum allowed amplitude (Amplmax): dP_diff"
   ]
  },
  {
   "cell_type": "code",
   "execution_count": null,
   "metadata": {},
   "outputs": [],
   "source": [
    "bins = list(np.arange(0, 60, 5))\n",
    "cats_dP_diff = pd.cut(slow_measurements_all.dP_diff, bins, right = False)\n",
    "cats_dP_diff.value_counts().sort_index()"
   ]
  },
  {
   "cell_type": "code",
   "execution_count": null,
   "metadata": {
    "scrolled": false
   },
   "outputs": [],
   "source": [
    "fig, ax = plt.subplots(figsize = [8,6])\n",
    "cats_dP_diff.value_counts().sort_index().plot(kind = 'bar', logy = False, \n",
    "                        title = 'amplitude', color = 'black', alpha = 0.7, fontsize = 14)\n",
    "ax.set_xlabel('range (mbar)', size = 14)\n",
    "ax.set_ylabel('number of seconds', size = 14)\n",
    "plt.grid('on')\n",
    "plt.tight_layout()\n",
    "\n",
    "fig.savefig('%s/%s.%s' % (DIR_WRITE, 'dP_diff', 'jpg'),\n",
    "    dpi = 300, facecolor='w', edgecolor='w', orientation='portrait', papertype=None, format = 'jpg',\n",
    "    transparent=False, bbox_inches=None, pad_inches=0.1, frameon=True);"
   ]
  },
  {
   "cell_type": "markdown",
   "metadata": {},
   "source": [
    "### Minute volume (MV)"
   ]
  },
  {
   "cell_type": "code",
   "execution_count": null,
   "metadata": {},
   "outputs": [],
   "source": [
    "bins = list(np.arange(0, 2.1, 0.2))\n",
    "cats_MV_kg = pd.cut(slow_measurements_all.MV_kg, bins, right = False)\n",
    "cats_MV_kg.value_counts().sort_index()"
   ]
  },
  {
   "cell_type": "code",
   "execution_count": null,
   "metadata": {},
   "outputs": [],
   "source": [
    "fig, ax = plt.subplots(figsize = [8,6])\n",
    "cats_MV_kg.value_counts().sort_index().plot(kind = 'bar', logy = False, \n",
    "                        title = 'minute volume', color = 'black', alpha = 0.7, fontsize = 14)\n",
    "ax.set_xlabel('L/min/kg', size = 14)\n",
    "ax.set_ylabel('number of seconds', size = 14)\n",
    "plt.grid('on')\n",
    "plt.tight_layout()\n",
    "\n",
    "fig.savefig('%s/%s.%s' % (DIR_WRITE, 'MV', 'jpg'),\n",
    "    dpi = 300, facecolor='w', edgecolor='w', orientation='portrait', papertype=None, format = 'jpg',\n",
    "    transparent=False, bbox_inches=None, pad_inches=0.1, frameon=True);"
   ]
  },
  {
   "cell_type": "markdown",
   "metadata": {},
   "source": [
    "### DCO2 (weight corrected)"
   ]
  },
  {
   "cell_type": "code",
   "execution_count": null,
   "metadata": {},
   "outputs": [],
   "source": [
    "bins = list(np.arange(0, 120, 10))\n",
    "cats_DCO2_kg2 = pd.cut(slow_measurements_all.DCO2_kg2, bins, right = False)\n",
    "cats_DCO2_kg2.value_counts().sort_index()"
   ]
  },
  {
   "cell_type": "code",
   "execution_count": null,
   "metadata": {},
   "outputs": [],
   "source": [
    "fig, ax = plt.subplots(figsize = [8,6])\n",
    "cats_DCO2_kg2.value_counts().sort_index().plot(kind = 'bar', logy = False, \n",
    "                        title = 'DCO2', color = 'black', alpha = 0.7, fontsize = 14)\n",
    "ax.set_xlabel('mL2/min/kg2', size = 14)\n",
    "ax.set_ylabel('number of seconds', size = 14)\n",
    "plt.grid('on')\n",
    "plt.tight_layout()\n",
    "\n",
    "fig.savefig('%s/%s.%s' % (DIR_WRITE, 'DCO2', 'jpg'),\n",
    "    dpi = 300, facecolor='w', edgecolor='w', orientation='portrait', papertype=None, format = 'jpg',\n",
    "    transparent=False, bbox_inches=None, pad_inches=0.1, frameon=True);"
   ]
  },
  {
   "cell_type": "markdown",
   "metadata": {},
   "source": [
    "### The rest of the ventilation parameters"
   ]
  },
  {
   "cell_type": "code",
   "execution_count": null,
   "metadata": {},
   "outputs": [],
   "source": [
    "plt.figure(figsize = (6,3))\n",
    "slow_measurements_all['fiO2'].hist(bins = np.arange(0, 100, 5), color = 'black', alpha = 0.75);"
   ]
  },
  {
   "cell_type": "code",
   "execution_count": null,
   "metadata": {},
   "outputs": [],
   "source": [
    "plt.figure(figsize = (6,3))\n",
    "slow_measurements_all['MAP'].hist(bins = np.arange(0, 25, 1), color = 'black', alpha = 0.75);"
   ]
  },
  {
   "cell_type": "code",
   "execution_count": null,
   "metadata": {},
   "outputs": [],
   "source": [
    "plt.figure(figsize = (6,3))\n",
    "slow_measurements_all['MVleak_kg'].hist(bins = np.arange(0, 1, 0.025), color = 'black', alpha = 0.75);"
   ]
  },
  {
   "cell_type": "code",
   "execution_count": null,
   "metadata": {},
   "outputs": [],
   "source": [
    "plt.figure(figsize = (6,3))\n",
    "slow_measurements_all['leak%'].hist(bins = np.arange(0, 100, 5), color = 'black', alpha = 0.75);"
   ]
  },
  {
   "cell_type": "code",
   "execution_count": null,
   "metadata": {},
   "outputs": [],
   "source": [
    "plt.figure(figsize = (6,3))\n",
    "slow_measurements_all['flow'].hist(bins = np.arange(15, 30, 0.3), color = 'black', alpha = 0.75);"
   ]
  },
  {
   "cell_type": "code",
   "execution_count": null,
   "metadata": {
    "scrolled": false
   },
   "outputs": [],
   "source": [
    "plt.figure(figsize = (6,3))\n",
    "slow_measurements_all['frequency'].hist(bins = np.arange(0, 16, 0.3), color = 'black', alpha = 0.75);"
   ]
  },
  {
   "cell_type": "markdown",
   "metadata": {},
   "source": [
    "### Descriptive statistics of the ventilator parameters (including all recordings)"
   ]
  },
  {
   "cell_type": "markdown",
   "metadata": {},
   "source": [
    "Data are not normally distributed  - use non-parametric analysis"
   ]
  },
  {
   "cell_type": "code",
   "execution_count": null,
   "metadata": {},
   "outputs": [],
   "source": [
    "stats_combined = \\\n",
    "    round(slow_measurements_all.describe(percentiles = [0.05, 0.25, 0.5, 0.75, 0.95, 0.99]), 2).T\n",
    "stats_combined['IQR'] = stats_combined['75%'] - stats_combined['25%']"
   ]
  },
  {
   "cell_type": "code",
   "execution_count": null,
   "metadata": {},
   "outputs": [],
   "source": [
    "stats_combined"
   ]
  },
  {
   "cell_type": "code",
   "execution_count": null,
   "metadata": {},
   "outputs": [],
   "source": [
    "# Write results to Excel file\n",
    "writer = pd.ExcelWriter('%s/%s' % (DIR_WRITE, 'HFOV_VG_stats_combined.xlsx'))\n",
    "stats_combined.to_excel(writer,'stats')\n",
    "writer.save()"
   ]
  },
  {
   "cell_type": "markdown",
   "metadata": {},
   "source": [
    "## Calculate statistics for each VG recording individually"
   ]
  },
  {
   "cell_type": "code",
   "execution_count": null,
   "metadata": {},
   "outputs": [],
   "source": [
    "# Group slow_measurements_VG_all by recording\n",
    "VG_grouped = slow_measurements_all.groupby('recording')"
   ]
  },
  {
   "cell_type": "markdown",
   "metadata": {},
   "source": [
    "### Visualise distribution of VThf, MV and DCO2 in the individual recordings"
   ]
  },
  {
   "cell_type": "code",
   "execution_count": null,
   "metadata": {
    "scrolled": false
   },
   "outputs": [],
   "source": [
    "filetype = 'pdf'\n",
    "dpi = 300\n",
    "\n",
    "fig = plt.figure(figsize = (12, 15))\n",
    "\n",
    "fig.subplots_adjust(left=None, bottom=None, right=None, top=None, wspace=0.3, hspace=0.4)\n",
    "\n",
    "i = 0\n",
    "for group, data in VG_grouped['VThf_kg']:\n",
    "    ax = plt.subplot(6, 3, i+1)\n",
    "    data.hist(ax = ax, color = 'black', bins = np.arange(0, 4, 0.2), alpha = 0.75)\n",
    "    ax.set_title(group, size = 12)\n",
    "    ax.set_xticklabels([' ', '0.5', '1', '1.5', '2', '2.5', '3', '3.5', '4'])\n",
    "    i+=1\n",
    "    \n",
    "fig.text(0.5, 0.03, 'VThf (mL/kg)',  size = 16, rotation=0)\n",
    "fig.text(0.03, 0.5, 'number of seconds', size = 16, rotation=90)\n",
    "\n",
    "fig.savefig('%s/%s.%s' % (DIR_WRITE, 'VThf_kg_distr_recs', filetype),\n",
    "    dpi = dpi, facecolor='w', edgecolor='w', orientation='portrait', papertype=None, format = filetype,\n",
    "    transparent=False, bbox_inches=None, pad_inches=0.1, frameon=True);"
   ]
  },
  {
   "cell_type": "code",
   "execution_count": null,
   "metadata": {
    "scrolled": false
   },
   "outputs": [],
   "source": [
    "filetype = 'pdf'\n",
    "dpi = 300\n",
    "\n",
    "fig = plt.figure(figsize = (12, 15))\n",
    "\n",
    "fig.subplots_adjust(left=None, bottom=None, right=None, top=None, wspace=0.3, hspace=0.4)\n",
    "\n",
    "i = 0\n",
    "for group, data in VG_grouped['DCO2_kg2']:\n",
    "    ax = plt.subplot(6, 3, i+1)\n",
    "    data.hist(ax = ax, color = 'black', bins = np.arange(0, 100, 5), alpha = 0.75)\n",
    "    ax.set_title(group, size = 12)\n",
    "    i+=1    \n",
    "\n",
    "fig.text(0.5, 0.03, r'DCO$_2$ (mL$^2$/s/kg$^2$)',  size = 16, rotation=0)\n",
    "fig.text(0.03, 0.5, 'number of seconds', size = 16, rotation=90)\n",
    "\n",
    "fig.savefig('%s/%s.%s' % (DIR_WRITE, 'DCO2_kg2_distr_recs', filetype),\n",
    "    dpi = dpi, facecolor='w', edgecolor='w', orientation='portrait', papertype=None, format = filetype,\n",
    "    transparent=False, bbox_inches=None, pad_inches=0.1, frameon=True);"
   ]
  },
  {
   "cell_type": "markdown",
   "metadata": {},
   "source": [
    "### Calculate statistics for all parameters in two different formats"
   ]
  },
  {
   "cell_type": "code",
   "execution_count": null,
   "metadata": {},
   "outputs": [],
   "source": [
    "stats_1 = round(VG_grouped.describe(percentiles = [0.05, 0.25, 0.5, 0.75, 0.95, 0.99]) , 2)\n",
    "stats_1.columns.names = ['parameter', 'statistic']\n",
    "stats_1"
   ]
  },
  {
   "cell_type": "code",
   "execution_count": null,
   "metadata": {},
   "outputs": [],
   "source": [
    "stats_2 = stats_1.swaplevel(1, 0 , axis = 1).sort_index(axis = 1)\n",
    "stats_2"
   ]
  },
  {
   "cell_type": "markdown",
   "metadata": {},
   "source": [
    "### Calculate group statistics"
   ]
  },
  {
   "cell_type": "code",
   "execution_count": null,
   "metadata": {
    "scrolled": false
   },
   "outputs": [],
   "source": [
    "# stats of median values\n",
    "group_stats = round(stats_2['50%'].describe(percentiles = [0.05, 0.25, 0.5, 0.75, 0.95, 0.99]) , 2).T\n",
    "group_stats"
   ]
  },
  {
   "cell_type": "code",
   "execution_count": null,
   "metadata": {},
   "outputs": [],
   "source": [
    "# Write results to Excel file\n",
    "writer = pd.ExcelWriter('%s/%s' % (DIR_WRITE, 'HFOV_VG_stats.xlsx'))\n",
    "stats_1.to_excel(writer,'stats_1')\n",
    "stats_2.to_excel(writer,'stats_2')\n",
    "group_stats.to_excel(writer, 'group')\n",
    "writer.save()"
   ]
  },
  {
   "cell_type": "markdown",
   "metadata": {},
   "source": [
    "### Some basic statistics for paper"
   ]
  },
  {
   "cell_type": "code",
   "execution_count": null,
   "metadata": {
    "scrolled": false
   },
   "outputs": [],
   "source": [
    "stats_1['VThf_kg']['50%'].min(), stats_1['VThf_kg']['50%'].max(), stats_1['VThf_kg']['50%'].median()"
   ]
  },
  {
   "cell_type": "code",
   "execution_count": null,
   "metadata": {},
   "outputs": [],
   "source": [
    "stats_1['MV_kg']['50%'].min(), stats_1['MV_kg']['50%'].max(), stats_1['MV_kg']['50%'].median()"
   ]
  },
  {
   "cell_type": "markdown",
   "metadata": {},
   "source": [
    "### Calculate 5-minute median values for the ventilation parameters"
   ]
  },
  {
   "cell_type": "code",
   "execution_count": null,
   "metadata": {},
   "outputs": [],
   "source": [
    "slow_measurements_5min_median = {}\n",
    "\n",
    "for recording in recordings:\n",
    "    slow_measurements_5min_median[recording] = slow_measurements[recording].resample('5min').median()\n",
    "    slow_measurements_5min_median[recording]['recording'] = recording\n",
    "    slow_measurements_5min_median[recording]['VThf_diff_kg'] = \\\n",
    "        np.abs(slow_measurements_5min_median[recording]['VThf_kg'] - \n",
    "               slow_measurements_5min_median[recording]['VThf_set_kg'])"
   ]
  },
  {
   "cell_type": "code",
   "execution_count": null,
   "metadata": {},
   "outputs": [],
   "source": [
    "total = []\n",
    "for recording in recordings:\n",
    "    total.append(slow_measurements_5min_median[recording])\n",
    "slow_measurements_all_5min_median = pd.concat(total)"
   ]
  },
  {
   "cell_type": "code",
   "execution_count": null,
   "metadata": {},
   "outputs": [],
   "source": [
    "slow_measurements_all_5min_median.head();"
   ]
  },
  {
   "cell_type": "code",
   "execution_count": null,
   "metadata": {},
   "outputs": [],
   "source": [
    "VG_5min_median_grouped = slow_measurements_all_5min_median.groupby('recording')\n",
    "stats_5min_median_1 = round(VG_5min_median_grouped.describe(percentiles = [0.05, 0.25, 0.5, 0.75, 0.95, 0.99]) , 2)\n",
    "stats_5min_median_1"
   ]
  },
  {
   "cell_type": "code",
   "execution_count": null,
   "metadata": {},
   "outputs": [],
   "source": [
    "stats_5min_median_2 = stats_5min_median_1.swaplevel(1, 0 , axis = 1).sort_index(axis = 1)\n",
    "stats_5min_median_2"
   ]
  },
  {
   "cell_type": "markdown",
   "metadata": {},
   "source": [
    "### Calculate group statistics"
   ]
  },
  {
   "cell_type": "code",
   "execution_count": null,
   "metadata": {},
   "outputs": [],
   "source": [
    "# stats of median values\n",
    "group_stats_5min_median = round(stats_5min_median_2['50%'].describe(percentiles = [0.05, 0.25, 0.5, 0.75, 0.95]) , 2).T\n",
    "group_stats_5min_median"
   ]
  },
  {
   "cell_type": "code",
   "execution_count": null,
   "metadata": {},
   "outputs": [],
   "source": [
    "writer = pd.ExcelWriter('%s/%s' % (DIR_WRITE, 'HFOV_VG_stats_5min_median.xlsx'))\n",
    "stats_5min_median_1.to_excel(writer, '5min_median')\n",
    "stats_5min_median_2.to_excel(writer, '5min_median_2')\n",
    "group_stats_5min_median.to_excel(writer, 'group')\n",
    "writer.save()"
   ]
  },
  {
   "cell_type": "markdown",
   "metadata": {},
   "source": [
    "## Analyse correlation of pCO2 with ventilation parameters"
   ]
  },
  {
   "cell_type": "markdown",
   "metadata": {
    "collapsed": true
   },
   "source": [
    "### Import blood gases"
   ]
  },
  {
   "cell_type": "code",
   "execution_count": null,
   "metadata": {},
   "outputs": [],
   "source": [
    "blood_gases = {}\n",
    "for recording in recordings:\n",
    "    blood_gas_loader('%s/%s' % (CWD, 'data_grabber_gases_all.xlsx'), blood_gases, recording)                   "
   ]
  },
  {
   "cell_type": "code",
   "execution_count": null,
   "metadata": {},
   "outputs": [],
   "source": [
    "pCO2s = {}\n",
    "for recording in recordings:\n",
    "    pCO2s[recording] = blood_gases[recording][['pCO2, POC', 'Blood specimen type, POC']]"
   ]
  },
  {
   "cell_type": "code",
   "execution_count": null,
   "metadata": {},
   "outputs": [],
   "source": [
    "# Change the index of pCO2s into single index format\n",
    "\n",
    "for recording in recordings:\n",
    "    # print('processing CO2 data for %s' % recording)\n",
    "    time_list_all = []\n",
    "    for i in range(len(pCO2s[recording])):\n",
    "        day = str(pCO2s[recording].index[i][0])[:10]\n",
    "        time = str(pCO2s[recording].index[i][1])\n",
    "        date_time = day + ' ' + time\n",
    "        time_list_all.append(date_time)\n",
    "                   \n",
    "    pCO2s[recording].index = time_list_all"
   ]
  },
  {
   "cell_type": "code",
   "execution_count": null,
   "metadata": {},
   "outputs": [],
   "source": [
    "# Convert the indices of the pCO2s DataFrames to datetime index\n",
    "\n",
    "for recording in recordings:\n",
    "    pCO2s[recording].index = pd.to_datetime(pCO2s[recording].index)"
   ]
  },
  {
   "cell_type": "markdown",
   "metadata": {
    "collapsed": true
   },
   "source": [
    "### Calculate statistics on selected parameters prior to the blood gases and save them to Excel files\n",
    "\n",
    "##### Define a function to generate a separate DataFrames ventilatory parameters during the interval before each blood gas"
   ]
  },
  {
   "cell_type": "code",
   "execution_count": null,
   "metadata": {},
   "outputs": [],
   "source": [
    "def data_selector(rec, par, time, interval, offset):\n",
    "    '''\n",
    "    Returns a trimmed DataFrame before a set time point (starts at (interval + offset) minutes before\n",
    "    the timepoint and ends at offset minutes before the time point. The DataFrame only contains\n",
    "    the parameters listed in par. \n",
    "    \n",
    "    Example: data_selector(slow_measurements_hfov['DG025'],\n",
    "                          ['MAP', 'VThf_kg'], '2016-01-22 18:03:00', 10, 2)\n",
    "    \n",
    "    '''\n",
    "    \n",
    "    # time is given in nanoseconds: 1 min = 60000000000 nanoseconds\n",
    "    end = pd.to_datetime(time) - pd.to_timedelta(offset * 60000000000) \n",
    "                               \n",
    "    \n",
    "    start = end - pd.to_timedelta(interval * 60000000000) + pd.to_timedelta(1000000000)\n",
    "    # 1 sec (1000000000 nsec) needs to be taken away otherwise the period will be 1 second \n",
    "    # too long as it includes the last second\n",
    "    \n",
    "    data = rec[start : end ][par]\n",
    "    return data"
   ]
  },
  {
   "cell_type": "code",
   "execution_count": null,
   "metadata": {},
   "outputs": [],
   "source": [
    "# Define important parameters\n",
    "\n",
    "interval = 10 #  minutes\n",
    "offset = 2 # minutes\n",
    "\n",
    "parameters = sorted(['amplitude', 'MV', 'MVe', 'MVi', 'MAP', 'VThf', 'DCO2', 'frequency',\n",
    "       'VThf_kg', 'MV_kg', 'MVi_kg', 'MVe_kg', 'DCO2_kg2', 'leak%'])\n",
    "\n",
    "stat_pars = ['mean', 'median']"
   ]
  },
  {
   "cell_type": "code",
   "execution_count": null,
   "metadata": {},
   "outputs": [],
   "source": [
    "data_selection = {}\n",
    "\n",
    "for recording in recordings:\n",
    "    # print(recording)\n",
    "    data_selection[recording] = {}\n",
    "    for gas in pCO2s[recording].index:\n",
    "        data_selection[recording][gas] = \\\n",
    "            data_selector(slow_measurements[recording], parameters, str(gas), interval, offset)"
   ]
  },
  {
   "cell_type": "code",
   "execution_count": null,
   "metadata": {},
   "outputs": [],
   "source": [
    "feature_dict = {}\n",
    "    \n",
    "for recording in recordings:\n",
    "    feature_dict[recording] = {}\n",
    "    for gas in pCO2s[recording].index:\n",
    "        feature_dict[recording][gas] = {}\n",
    "        feature_dict[recording][gas]['pCO2'] = pCO2s[recording].loc[gas]['pCO2, POC']\n",
    "        feature_dict[recording][gas]['sample_type'] = \\\n",
    "            pCO2s[recording].loc[gas]['Blood specimen type, POC']\n",
    "        feature_dict[recording][gas]['weight'] = slow_measurements[recording]['weight'].unique()[0]\n",
    "        feature_dict[recording][gas]['size'] = len(data_selection[recording][gas])\n",
    "        for stat in stat_pars:\n",
    "            feature_dict[recording][gas][stat] = {}\n",
    "            for column in data_selection[recording][gas].columns:\n",
    "                feature_dict[recording][gas][stat][column] = \\\n",
    "                    data_selection[recording][gas][column].apply(stat)            "
   ]
  },
  {
   "cell_type": "code",
   "execution_count": null,
   "metadata": {},
   "outputs": [],
   "source": [
    "# Remove those gases from the dictionary where there is no ventilation data\n",
    "\n",
    "for rec in sorted(feature_dict.keys()):\n",
    "    for gas in sorted(feature_dict[rec].keys()):\n",
    "        if feature_dict[rec][gas]['size'] == 0:\n",
    "            del feature_dict[rec][gas]"
   ]
  },
  {
   "cell_type": "code",
   "execution_count": null,
   "metadata": {},
   "outputs": [],
   "source": [
    "# How many gases have less than 600 data points for ventilator data\n",
    "\n",
    "short_periods = []\n",
    "\n",
    "for rec in sorted(feature_dict.keys()):\n",
    "    for gas in sorted(feature_dict[rec].keys()):\n",
    "        if feature_dict[rec][gas]['size'] < 600:\n",
    "            short_periods.append((rec, str(gas), feature_dict[rec][gas]['size']))\n",
    "            \n",
    "short_periods"
   ]
  },
  {
   "cell_type": "markdown",
   "metadata": {},
   "source": [
    "### Aggregate ventilator parameters as medians over periods of 10 minutes (600 seconds)"
   ]
  },
  {
   "cell_type": "code",
   "execution_count": null,
   "metadata": {},
   "outputs": [],
   "source": [
    "# which statistics to use in the final DataFrame\n",
    "stat = 'median'\n",
    "\n",
    "lst1 = []\n",
    "for recording in recordings:\n",
    "    lst2 = []\n",
    "    for gas in sorted(feature_dict[recording].keys()):\n",
    "        a = feature_dict[recording][gas][stat]\n",
    "        b = DataFrame(a, index = [gas])\n",
    "        b['pCO2'] = feature_dict[recording][gas]['pCO2']\n",
    "        b['sample'] = feature_dict[recording][gas]['sample_type']\n",
    "        b['recording'] = recording\n",
    "        lst2.append(b)\n",
    "    c = pd.concat(lst2)\n",
    "    c.dropna(axis = 0, how = 'any', \n",
    "            subset = feature_dict[recording][pd.Timestamp(gas)][stat].keys(),\n",
    "            inplace = True)\n",
    "    lst1.append(c)\n",
    "\n",
    "parameters_median = pd.concat(lst1)\n",
    "parameters_median.dropna(axis = 0, how = 'any', subset = ['pCO2'], inplace = True)\n",
    "parameters_median = round(parameters_median, 2)"
   ]
  },
  {
   "cell_type": "code",
   "execution_count": null,
   "metadata": {},
   "outputs": [],
   "source": [
    "parameters_median.head()"
   ]
  },
  {
   "cell_type": "code",
   "execution_count": null,
   "metadata": {},
   "outputs": [],
   "source": [
    "gases_all = parameters_median.groupby('recording').size()\n",
    "gases_all"
   ]
  },
  {
   "cell_type": "code",
   "execution_count": null,
   "metadata": {},
   "outputs": [],
   "source": [
    "gases_all.sum()"
   ]
  },
  {
   "cell_type": "code",
   "execution_count": null,
   "metadata": {},
   "outputs": [],
   "source": [
    "gases_art_all = parameters_median[parameters_median['sample'] == 'Arteri...'].groupby('recording').size()\n",
    "gases_art_all"
   ]
  },
  {
   "cell_type": "code",
   "execution_count": null,
   "metadata": {},
   "outputs": [],
   "source": [
    "gases_art_all.sum()"
   ]
  },
  {
   "cell_type": "code",
   "execution_count": null,
   "metadata": {},
   "outputs": [],
   "source": [
    "writer = pd.ExcelWriter('%s/%s.xlsx' % (DIR_WRITE, 'CO2_vent_parameters'))\n",
    "parameters_median.to_excel(writer, 'median')\n",
    "writer.save()"
   ]
  },
  {
   "cell_type": "markdown",
   "metadata": {},
   "source": [
    "#### Some basic statistics about pCO2 for the paper"
   ]
  },
  {
   "cell_type": "code",
   "execution_count": null,
   "metadata": {},
   "outputs": [],
   "source": [
    "len(parameters_median[parameters_median['pCO2'] < 5])"
   ]
  },
  {
   "cell_type": "code",
   "execution_count": null,
   "metadata": {},
   "outputs": [],
   "source": [
    "len(parameters_median[parameters_median['pCO2'] < 5]) / len(parameters_median)"
   ]
  },
  {
   "cell_type": "code",
   "execution_count": null,
   "metadata": {},
   "outputs": [],
   "source": [
    "len(parameters_median[parameters_median['pCO2'] > 8])"
   ]
  },
  {
   "cell_type": "code",
   "execution_count": null,
   "metadata": {},
   "outputs": [],
   "source": [
    "len(parameters_median[parameters_median['pCO2'] > 8]) / len(parameters_median)"
   ]
  },
  {
   "cell_type": "markdown",
   "metadata": {},
   "source": [
    "### Analyse correlation of median parameters with pCO2 across all recordings"
   ]
  },
  {
   "cell_type": "code",
   "execution_count": null,
   "metadata": {},
   "outputs": [],
   "source": [
    "parameters_median.corr().loc['pCO2'].sort_values()"
   ]
  },
  {
   "cell_type": "markdown",
   "metadata": {},
   "source": [
    "### Analyse correlation median VThf and DCO2 (uncorrected, corrected for body weight and corrected for body weight squared) with pCO2 across all recordings"
   ]
  },
  {
   "cell_type": "code",
   "execution_count": null,
   "metadata": {},
   "outputs": [],
   "source": [
    "from scipy.stats.stats import pearsonr\n",
    "\n",
    "def correl(x, y):\n",
    "\n",
    "    '''\n",
    "    input: two numeric vectors of the same size\n",
    "\n",
    "    returns: a tuple of \n",
    "    1. Pearson's correlation coefficient: r\n",
    "    2. low and high 95% confidence intervals or r (two values)\n",
    "    3. Coefficient of determination: r^2\n",
    "    4. p-value of correlation\n",
    "\n",
    "    '''\n",
    "    \n",
    "    assert len(x) == len(y)\n",
    "    \n",
    "    r, p = pearsonr(x, y)\n",
    "    f = 0.5*np.log((1+r)/(1-r))\n",
    "    se = 1/np.sqrt(len(x)-3)\n",
    "    ucl = f + 1.96 * se\n",
    "    lcl = f - 1.96 * se\n",
    "\n",
    "    lcl = (np.exp(2*lcl) - 1) / (np.exp(2*lcl) + 1)\n",
    "    ucl = (np.exp(2*ucl) - 1) / (np.exp(2*ucl) + 1)\n",
    "\n",
    "    return round(r, 3) , round(lcl, 3), round(ucl, 3) , round(r*r, 3), round(p, 3)"
   ]
  },
  {
   "cell_type": "code",
   "execution_count": null,
   "metadata": {},
   "outputs": [],
   "source": [
    "correlations_all = {}\n",
    "\n",
    "for par in parameters_median.columns[:-3]:\n",
    "    correlations_all[par] = {}\n",
    "    a = parameters_median\n",
    "    correlations_all[par]['r'] = correl(a[par], a['pCO2'])[0]\n",
    "    correlations_all[par]['CI'] = correl(a[par], a['pCO2'])[1], correl(a[par], a['pCO2'])[2]\n",
    "    correlations_all[par]['r2'] = correl(a[par], a['pCO2'])[3]\n",
    "    correlations_all[par]['p'] = correl(a[par], a['pCO2'])[4]\n",
    "    \n",
    "correlations_all = DataFrame(correlations_all).T[['r', 'CI', 'p']]"
   ]
  },
  {
   "cell_type": "code",
   "execution_count": null,
   "metadata": {},
   "outputs": [],
   "source": [
    "pars_selected = pars = ['DCO2', 'DCO2_kg2', 'VThf', 'VThf_kg']\n",
    "\n",
    "correlations_all_selected = correlations_all.loc[pars].sort_values('r')\n",
    "correlations_all_selected.columns = [['All gases', 'All gases', 'All gases' ], ['r', 'CI', 'p']]\n",
    "correlations_all_selected"
   ]
  },
  {
   "cell_type": "code",
   "execution_count": null,
   "metadata": {},
   "outputs": [],
   "source": [
    "correlations_all_arterial_only = {}\n",
    "\n",
    "for par in parameters_median.columns[:-3]:\n",
    "    correlations_all_arterial_only[par] = {}\n",
    "    a = parameters_median[parameters_median['sample'] ==  'Arteri...']\n",
    "    correlations_all_arterial_only[par]['r'] = correl(a[par], a['pCO2'])[0]\n",
    "    correlations_all_arterial_only[par]['CI'] = correl(a[par], a['pCO2'])[1], correl(a[par], a['pCO2'])[2]\n",
    "    correlations_all_arterial_only[par]['r2'] = correl(a[par], a['pCO2'])[3]\n",
    "    correlations_all_arterial_only[par]['p'] = correl(a[par], a['pCO2'])[4]\n",
    "    \n",
    "correlations_all_arterial_only = DataFrame(correlations_all_arterial_only).T[['r', 'CI', 'p']]"
   ]
  },
  {
   "cell_type": "code",
   "execution_count": null,
   "metadata": {
    "scrolled": true
   },
   "outputs": [],
   "source": [
    "pars_selected = pars = ['DCO2', 'DCO2_kg2', 'VThf', 'VThf_kg',]\n",
    "\n",
    "correlations_all_arterial_only_selected = correlations_all_arterial_only.loc[pars].sort_values('r')\n",
    "correlations_all_arterial_only_selected.columns = [['Arterial gases', 'Arterial gases', 'Arterial gases' ],\n",
    "                                                   ['r', 'CI', 'p']]\n",
    "correlations_all_arterial_only_selected"
   ]
  },
  {
   "cell_type": "code",
   "execution_count": null,
   "metadata": {},
   "outputs": [],
   "source": [
    "correlations_all_combined = pd.concat([correlations_all_selected,\n",
    "                                       correlations_all_arterial_only_selected], axis = 1)\n",
    "correlations_all_combined"
   ]
  },
  {
   "cell_type": "code",
   "execution_count": null,
   "metadata": {},
   "outputs": [],
   "source": [
    "writer = pd.ExcelWriter('%s/%s.xlsx' % (DIR_WRITE, 'correlations_all'))\n",
    "correlations_all_combined.to_excel(writer)\n",
    "writer.save()"
   ]
  },
  {
   "cell_type": "markdown",
   "metadata": {},
   "source": [
    "### Visualize correlation of VThf with pCO2 across all recordings"
   ]
  },
  {
   "cell_type": "code",
   "execution_count": null,
   "metadata": {},
   "outputs": [],
   "source": [
    "# color and marker set for visualization\n",
    "\n",
    "colors = ['b', 'g', 'r', 'c', 'm', 'y', 'k', 'magenta', 'maroon', 'navy', 'salmon', 'silver',  'tomato',\n",
    "          'violet', 'orchid', 'peru', 'wheat', 'lime', 'limegreen']\n",
    "markers = [\".\", \"+\", \",\", \"x\", \"o\", \"D\", \"d\", \"8\", \"s\", \"p\", \"*\", \"h\", 0, 4, \"<\", \"3\",\n",
    "           1, 5, \">\", \"4\", 2, 6, \"^\", \"2\", 3, 7, \"v\", \"1\"]"
   ]
  },
  {
   "cell_type": "code",
   "execution_count": null,
   "metadata": {},
   "outputs": [],
   "source": [
    "def visualise_corr(par, data = parameters_median, rec = recordings, arterial_only = False,\n",
    "                   xlimoffset = None, ylimoffset = None, \n",
    "                   textboxoffset_x = None, textboxoffset_y = None, filetype = 'jpg'):\n",
    "    \n",
    "    '''\n",
    "    input:\n",
    "    - data = [DataFrame] containing ventilator parameters and pCO2 data\n",
    "    - rec = [list] of recordings the analysis should be limited to\n",
    "    - par = [string] name of ventilator parameters to study\n",
    "    - arterial_only = [boolean] if True, include only arterial blood gases\n",
    "    \n",
    "    Draws a scatter chart and shows Pearson's correlation betweeen PARAMETER and PCO2  \n",
    "    using data in recordings REC. Points belonging to different recordings\n",
    "    have different markers and colors.\n",
    "    A correlation line is also drawn.\n",
    "    It also calculates Spearman's correlation coefficient with confidence intervals and p-value. \n",
    "    Puts these data on the graph.\n",
    "    '''\n",
    "    \n",
    "    if arterial_only:\n",
    "        data = data[data['sample'] == 'Arteri...']\n",
    "                   \n",
    "    sample = data[data['recording'].isin(rec)]\n",
    "    # print(sample)\n",
    "    \n",
    "    if len(sample) == 0:\n",
    "        return\n",
    "     \n",
    "    fig = plt.figure()\n",
    "    fig.set_size_inches(8, 8)\n",
    "    ax = fig.add_subplot(1,1,1)\n",
    "    \n",
    "    for i, recording in enumerate(sample['recording'].unique()):\n",
    "        a = sample[sample['recording'] == recording][par]\n",
    "        #print(a)\n",
    "        b = sample[sample['recording'] == recording]['pCO2']\n",
    "        #print(b)\n",
    "        ax.scatter(a , b, color = colors[i], marker = markers[i], s = 25)\n",
    "    \n",
    "    plt.ylabel('pCO2 (kPa)', fontsize  = 14)\n",
    "    plt.xlabel(par, fontsize  = 14)\n",
    "    \n",
    "    plt.xlim(0, xlimoffset if xlimoffset else 5)\n",
    "    plt.ylim(0, ylimoffset if ylimoffset else 16)\n",
    "    plt.title('', fontsize = 14)\n",
    "    plt.grid('on')\n",
    "    \n",
    "    # Polynomial Coefficients\n",
    "    x = sample[par]\n",
    "    y = sample['pCO2']\n",
    "    \n",
    "    coeffs = np.polyfit(x, y, deg = 1)\n",
    "    result = coeffs.tolist()\n",
    "    \n",
    "    # Fit a trendline\n",
    "    l = np.poly1d(coeffs)\n",
    "    plt.plot(x,l(x),'r--')\n",
    "\n",
    "    # Calculate pearson's correlation coefficient with confidence intervals, coefficiet of determination and p value\n",
    "    r , lcl, ucl , r2, p = correl(x,y)\n",
    "    p = round(p, 4)\n",
    "\n",
    "    # print the equation on the graph area \n",
    "    \n",
    "    text = 'y=%.4fx+(%.4f)\\nr=%.4f (%.4f , %.4f)\\np=%.4f' % (result[0], result[1], r, lcl, ucl, p)\n",
    "\n",
    "    plt.text(textboxoffset_x if textboxoffset_x else 2.3,\n",
    "             textboxoffset_y if textboxoffset_y else 13.5, \n",
    "             text, color = 'black', style='normal', fontsize=15, \n",
    "             bbox={'facecolor':'white', 'edgecolor':'red', 'alpha':1, 'pad':10})\n",
    "    \n",
    "    text2 = 'y=%.4fx+(%.4f)   r=%.4f (%.4f , %.4f)   p=%.4f' % (result[0], result[1], r, lcl, ucl, p)\n",
    "    print(text2)\n",
    "    \n",
    "    fig.savefig('%s/%s.%s' % (DIR_WRITE, par, filetype), dpi = 300, facecolor='w', edgecolor='w',\n",
    "        orientation='portrait', papertype=None, format = filetype)"
   ]
  },
  {
   "cell_type": "code",
   "execution_count": null,
   "metadata": {},
   "outputs": [],
   "source": [
    "visualise_corr('VThf_kg', arterial_only=True)"
   ]
  },
  {
   "cell_type": "code",
   "execution_count": null,
   "metadata": {},
   "outputs": [],
   "source": [
    "visualise_corr('VThf_kg')"
   ]
  },
  {
   "cell_type": "markdown",
   "metadata": {},
   "source": [
    "### Create ROC curve"
   ]
  },
  {
   "cell_type": "code",
   "execution_count": null,
   "metadata": {},
   "outputs": [],
   "source": [
    "val = np.arange(0, 6.1, 0.1)\n",
    "true_pos = []\n",
    "false_pos = []\n",
    "true_neg = []\n",
    "false_neg = []\n",
    "\n",
    "a = parameters_median\n",
    "\n",
    "for i in val:\n",
    "    pos = a[a['VThf_kg'] >= i]\n",
    "    neg = a[a['VThf_kg'] < i]\n",
    "    tp = len(pos[pos['pCO2'] < 8])\n",
    "    fp = len(pos[pos['pCO2'] >= 8]) \n",
    "    tn = len(neg[neg['pCO2'] >= 8])\n",
    "    fn = len(neg[neg['pCO2'] < 8])\n",
    "    true_pos.append(tp)\n",
    "    false_pos.append(fp)\n",
    "    true_neg.append(tn)\n",
    "    false_neg.append(fn)"
   ]
  },
  {
   "cell_type": "code",
   "execution_count": null,
   "metadata": {},
   "outputs": [],
   "source": [
    "VThf_kg_test = DataFrame({'tp': true_pos, 'fp': false_pos, \n",
    "                          'tn': true_neg, 'fn': false_neg}, index = val )"
   ]
  },
  {
   "cell_type": "code",
   "execution_count": null,
   "metadata": {},
   "outputs": [],
   "source": [
    "VThf_kg_test['sensitivity'] = round(VThf_kg_test.tp / (VThf_kg_test.tp + VThf_kg_test.fn), 3)\n",
    "VThf_kg_test['specificity'] = round(VThf_kg_test.tn / (VThf_kg_test.tn + VThf_kg_test.fp), 3)\n",
    "VThf_kg_test['1-specificity'] = 1 - VThf_kg_test['specificity']\n",
    "VThf_kg_test['pos_pred_value'] = round(VThf_kg_test.tp / (VThf_kg_test.tp + VThf_kg_test.fp), 3)\n",
    "VThf_kg_test['neg_pred_value'] = round(VThf_kg_test.tn / (VThf_kg_test.tn + VThf_kg_test.fn), 3)\n",
    "VThf_kg_test['Youden'] = round(VThf_kg_test.sensitivity + VThf_kg_test.specificity - 1, 3)\n",
    "\n",
    "#VThf_kg_test.sort_values('1-specificity', inplace = True)"
   ]
  },
  {
   "cell_type": "code",
   "execution_count": null,
   "metadata": {},
   "outputs": [],
   "source": [
    "VThf_kg_test[VThf_kg_test['Youden'] == VThf_kg_test['Youden'].max()]"
   ]
  },
  {
   "cell_type": "code",
   "execution_count": null,
   "metadata": {},
   "outputs": [],
   "source": [
    "VThf_kg_test.sort_values('1-specificity', inplace = True)"
   ]
  },
  {
   "cell_type": "code",
   "execution_count": null,
   "metadata": {},
   "outputs": [],
   "source": [
    "AUC = 0 # Area under the ROC curve\n",
    "\n",
    "for i in range(len(VThf_kg_test['1-specificity'])-2):\n",
    "    c_high = ((VThf_kg_test['1-specificity'].iloc[i+1] - VThf_kg_test['1-specificity'].iloc[i]) *  \n",
    "        VThf_kg_test['sensitivity'].iloc[i+1])\n",
    "    c_low = ((VThf_kg_test['1-specificity'].iloc[i+1] - VThf_kg_test['1-specificity'].iloc[i]) *  \n",
    "        VThf_kg_test['sensitivity'].iloc[i])\n",
    "    c = (c_high + c_low) / 2\n",
    "    AUC += c   "
   ]
  },
  {
   "cell_type": "code",
   "execution_count": null,
   "metadata": {},
   "outputs": [],
   "source": [
    "# ROC curve\n",
    "# A corrected VThf/kg > 2.1 m2/kg2 predict a pCO2 < 8 kPa with a sensitivity of 0.466 and a specificity of 0.741 \n",
    "# (Youden score = 0.207)\n",
    "x = [0, 1]; y = [0, 1]\n",
    "\n",
    "fig = plt.figure()\n",
    "fig.set_size_inches(7, 5)\n",
    "fig.subplots_adjust(left=None, bottom=None, right=None, top=None, wspace=None, hspace=0.7)\n",
    "fig.add_subplot(1,1,1)\n",
    "\n",
    "text = 'VThf/kg = 2.1 mL/kg'\n",
    "text2 = 'AUC = %.3f' % AUC\n",
    "\n",
    "plt.plot(1 - VThf_kg_test.specificity , VThf_kg_test.sensitivity, c = 'black')\n",
    "ax = plt.plot(x, y, c = 'black', linestyle = '--', )\n",
    "plt.vlines(1 - 0.741, 1 - 0.741, 0.466, color='k', linewidth = 3)\n",
    "plt.text(0.05, 0.90, text, color = 'black', style='normal', fontsize=14, \n",
    "         bbox={'facecolor':'white', 'edgecolor':'black', 'alpha':1, 'pad':10});\n",
    "\n",
    "plt.text(0.6, 0.3, text2, color = 'black', style='normal', fontsize=14, \n",
    "         bbox={'facecolor':'white', 'edgecolor':'black', 'alpha':1, 'pad':10});\n",
    "\n",
    "plt.title('ROC curve', size = 14)\n",
    "plt.ylabel('Sensitivity', fontsize  = 14)\n",
    "plt.xlabel('1 - Specificity', fontsize  = 14)\n",
    "plt.grid()\n",
    "\n",
    "fig.savefig('%s/ROC.jpg' % DIR_WRITE , dpi = 300, facecolor='w', edgecolor='w',\n",
    "        orientation='portrait', papertype=None, format = 'jpg',\n",
    "        transparent=False, bbox_inches=None, pad_inches=0.1, frameon=True)\n"
   ]
  },
  {
   "cell_type": "code",
   "execution_count": null,
   "metadata": {
    "scrolled": true
   },
   "outputs": [],
   "source": [
    "len(parameters_median[parameters_median['pCO2'] > 8.0])"
   ]
  },
  {
   "cell_type": "code",
   "execution_count": null,
   "metadata": {},
   "outputs": [],
   "source": [
    "len(parameters_median[parameters_median['VThf_kg'] > 2.5])"
   ]
  },
  {
   "cell_type": "code",
   "execution_count": null,
   "metadata": {},
   "outputs": [],
   "source": [
    "parameters_median[(parameters_median['VThf_kg'] > 2.5) & (parameters_median['pCO2'] >= 8)]"
   ]
  },
  {
   "cell_type": "markdown",
   "metadata": {},
   "source": [
    "### Predictive values of VThf/kg >= 2.5 mL/kg"
   ]
  },
  {
   "cell_type": "code",
   "execution_count": null,
   "metadata": {},
   "outputs": [],
   "source": [
    "TP = len(parameters_median[(parameters_median['VThf_kg'] >= 2.5) & (parameters_median['pCO2'] < 8)])\n",
    "FP = len(parameters_median[(parameters_median['VThf_kg'] >= 2.5) & (parameters_median['pCO2'] >= 8)])\n",
    "TN = len(parameters_median[(parameters_median['VThf_kg'] < 2.5) & (parameters_median['pCO2'] >= 8)])\n",
    "FN = len(parameters_median[(parameters_median['VThf_kg'] < 2.5) & (parameters_median['pCO2'] < 8)])"
   ]
  },
  {
   "cell_type": "code",
   "execution_count": null,
   "metadata": {},
   "outputs": [],
   "source": [
    "PPV = TP / (TP + FP) * 100\n",
    "PPV"
   ]
  },
  {
   "cell_type": "code",
   "execution_count": null,
   "metadata": {},
   "outputs": [],
   "source": [
    "NPV = TN / (TN + FN) * 100\n",
    "NPV"
   ]
  },
  {
   "cell_type": "markdown",
   "metadata": {},
   "source": [
    "### Analyse correlation of VThf/kg with pCO2 in individual patients"
   ]
  },
  {
   "cell_type": "code",
   "execution_count": null,
   "metadata": {},
   "outputs": [],
   "source": [
    "# Some of the recordings have limited number of VThf values\n",
    "\n",
    "VThf_kg_values = DataFrame(parameters_median.groupby('recording')['VThf_kg'].unique())\n",
    "VThf_kg_values"
   ]
  },
  {
   "cell_type": "code",
   "execution_count": null,
   "metadata": {},
   "outputs": [],
   "source": [
    "# Some of the recordings have limited number of VThf values\n",
    "\n",
    "frequency_values = DataFrame(parameters_median.groupby('recording')['frequency'].unique())\n",
    "frequency_values"
   ]
  },
  {
   "cell_type": "code",
   "execution_count": null,
   "metadata": {},
   "outputs": [],
   "source": [
    "correlations = {}\n",
    "\n",
    "for par in parameters_median.columns[:-3]:\n",
    "    correlations[par] = {}\n",
    "    for recording in parameters_median['recording'].unique():\n",
    "        a = parameters_median[parameters_median['recording'] == recording]\n",
    "        # if the ventilation parameters was the same for all blood gases.\n",
    "        # the SD of the parameter will be zero, the covariance cannot be calculated\n",
    "        # (as it would mean division by zero)\n",
    "        if len(a[par].unique()) == 1:\n",
    "            continue\n",
    "        else:\n",
    "            correlations[par][recording] = {}\n",
    "            correlations[par][recording]['r'] = correl(a[par], a['pCO2'])[0]\n",
    "            correlations[par][recording]['CI'] = correl(a[par], a['pCO2'])[1], correl(a[par], a['pCO2'])[2]\n",
    "            correlations[par][recording]['r2'] = correl(a[par], a['pCO2'])[3]\n",
    "            correlations[par][recording]['p'] = correl(a[par], a['pCO2'])[4]\n",
    "    \n",
    "    correlations[par] = DataFrame(correlations[par]).T[['r', 'CI', 'p']]"
   ]
  },
  {
   "cell_type": "code",
   "execution_count": null,
   "metadata": {},
   "outputs": [],
   "source": [
    "correlations = pd.concat(correlations, axis = 1)"
   ]
  },
  {
   "cell_type": "code",
   "execution_count": null,
   "metadata": {},
   "outputs": [],
   "source": [
    "correlations_selected = correlations[['VThf_kg', 'DCO2_kg2']]"
   ]
  },
  {
   "cell_type": "code",
   "execution_count": null,
   "metadata": {
    "scrolled": false
   },
   "outputs": [],
   "source": [
    "correlations_selected"
   ]
  },
  {
   "cell_type": "markdown",
   "metadata": {},
   "source": [
    "### Analyse correlation of VThf/kg with arterial pCO2 in individual patients"
   ]
  },
  {
   "cell_type": "code",
   "execution_count": null,
   "metadata": {},
   "outputs": [],
   "source": [
    "parameters_median[parameters_median['sample'] == 'Arteri...'].head()"
   ]
  },
  {
   "cell_type": "code",
   "execution_count": null,
   "metadata": {},
   "outputs": [],
   "source": [
    "# Some of the recordings have limited number of VThf values\n",
    "\n",
    "VThf_kg_values = DataFrame(parameters_median[parameters_median['sample'] == 'Arteri...'].groupby('recording')['VThf_kg'].unique())\n",
    "VThf_kg_values"
   ]
  },
  {
   "cell_type": "code",
   "execution_count": null,
   "metadata": {},
   "outputs": [],
   "source": [
    "# Some of the recordings have limited number of VThf values\n",
    "parameters_median_art = parameters_median[parameters_median['sample'] == 'Arteri...'].copy()\n",
    "\n",
    "frequency_values_art = DataFrame(parameters_median_art.groupby('recording')['frequency'].unique())\n",
    "frequency_values_art"
   ]
  },
  {
   "cell_type": "code",
   "execution_count": null,
   "metadata": {},
   "outputs": [],
   "source": [
    "correlations_art = {}\n",
    "\n",
    "for par in parameters_median_art.columns[:-3]:\n",
    "    correlations_art[par] = {}\n",
    "    for recording in parameters_median_art['recording'].unique():\n",
    "        a = parameters_median_art[parameters_median_art['recording'] == recording]\n",
    "        # if the ventilation parameters was the same for all blood gases.\n",
    "        # the SD of the parameter will be zero, the covariance cannot be calculated\n",
    "        # (as it would mean division by zero)\n",
    "        if len(a[par].unique()) == 1:\n",
    "            continue\n",
    "        else:\n",
    "            correlations_art[par][recording] = {}\n",
    "            correlations_art[par][recording]['r'] = correl(a[par], a['pCO2'])[0]\n",
    "            correlations_art[par][recording]['CI'] = correl(a[par], a['pCO2'])[1], correl(a[par], a['pCO2'])[2]\n",
    "            correlations_art[par][recording]['r2'] = correl(a[par], a['pCO2'])[3]\n",
    "            correlations_art[par][recording]['p'] = correl(a[par], a['pCO2'])[4]\n",
    "    \n",
    "    correlations_art[par] = DataFrame(correlations_art[par]).T[['r', 'CI', 'p']]"
   ]
  },
  {
   "cell_type": "code",
   "execution_count": null,
   "metadata": {},
   "outputs": [],
   "source": [
    "correlations_art = pd.concat(correlations_art, axis = 1)"
   ]
  },
  {
   "cell_type": "code",
   "execution_count": null,
   "metadata": {},
   "outputs": [],
   "source": [
    "correlations_art;"
   ]
  },
  {
   "cell_type": "code",
   "execution_count": null,
   "metadata": {},
   "outputs": [],
   "source": [
    "correlations_art_selected = correlations_art[['VThf_kg', 'DCO2_kg2']]"
   ]
  },
  {
   "cell_type": "code",
   "execution_count": null,
   "metadata": {
    "scrolled": false
   },
   "outputs": [],
   "source": [
    "correlations_art_selected"
   ]
  },
  {
   "cell_type": "code",
   "execution_count": null,
   "metadata": {},
   "outputs": [],
   "source": [
    "writer = pd.ExcelWriter('%s/%s.xlsx' % (DIR_WRITE, 'correlations'))\n",
    "correlations.to_excel(writer, 'correlations')\n",
    "correlations_selected.to_excel(writer, 'correlations_selected')\n",
    "correlations_art.to_excel(writer, 'correlations_art')\n",
    "correlations_art_selected.to_excel(writer, 'correlations_art_selected')\n",
    "writer.save()"
   ]
  },
  {
   "cell_type": "markdown",
   "metadata": {},
   "source": [
    "____"
   ]
  },
  {
   "cell_type": "markdown",
   "metadata": {},
   "source": [
    "# Figures and Tables for the paper"
   ]
  },
  {
   "cell_type": "markdown",
   "metadata": {},
   "source": [
    "## Tables"
   ]
  },
  {
   "cell_type": "markdown",
   "metadata": {},
   "source": [
    "### Table 1 and Supplementary Table 1"
   ]
  },
  {
   "cell_type": "code",
   "execution_count": null,
   "metadata": {},
   "outputs": [],
   "source": [
    "pars = ['VThf_kg', 'VThf_set_kg', 'VThf_diff_kg']\n",
    "stats_1_selection_1 = {}\n",
    "\n",
    "for par in pars:\n",
    "    a = pd.concat([stats_1[par]['50%'], stats_1[par]['5%'], stats_1[par]['95%']],  axis = 1)\n",
    "    a.columns = ['median', '5th pc', '95th pc']\n",
    "    stats_1_selection_1[par] = a\n",
    "    \n",
    "stats_1_selection_1 = pd.concat(stats_1_selection_1, axis = 1)\n",
    "stats_1_selection_1 = stats_1_selection_1[pars]\n",
    "stats_1_selection_1 = round(stats_1_selection_1, 1)\n",
    "stats_1_selection_1"
   ]
  },
  {
   "cell_type": "code",
   "execution_count": null,
   "metadata": {},
   "outputs": [],
   "source": [
    "pars = ['VThf_kg', 'VThf_set_kg', 'VThf_diff_kg', \n",
    "        'DCO2_kg2', 'amplitude', 'MAP', 'fiO2', 'frequency', 'leak%']\n",
    "\n",
    "stats_1_selection_2 = {}\n",
    "\n",
    "for par in pars:\n",
    "    a = pd.concat([stats_1[par]['50%'], stats_1[par]['5%'], stats_1[par]['95%']], axis = 1)\n",
    "    a.columns = ['median', '5th pc', '95th pc']\n",
    "    stats_1_selection_2[par] = a\n",
    "    \n",
    "stats_1_selection_2 = pd.concat(stats_1_selection_2, axis = 1)\n",
    "stats_1_selection_2 = stats_1_selection_2[pars]\n",
    "stats_1_selection_2 = round(stats_1_selection_2, 1)\n",
    "stats_1_selection_2"
   ]
  },
  {
   "cell_type": "code",
   "execution_count": null,
   "metadata": {},
   "outputs": [],
   "source": [
    "writer = pd.ExcelWriter('%s/%s' % (DIR_WRITE, 'Table_1_Supplementary_Table_1.xlsx'))\n",
    "stats_1_selection_1.to_excel(writer, 'stats_1_selection_1')\n",
    "stats_1_selection_2.to_excel(writer, 'stats_1_selection_2')\n",
    "writer.save()"
   ]
  },
  {
   "cell_type": "markdown",
   "metadata": {},
   "source": [
    "### Table 2"
   ]
  },
  {
   "cell_type": "code",
   "execution_count": null,
   "metadata": {},
   "outputs": [],
   "source": [
    "correlations_all_combined"
   ]
  },
  {
   "cell_type": "code",
   "execution_count": null,
   "metadata": {},
   "outputs": [],
   "source": [
    "writer = pd.ExcelWriter('%s/%s.xlsx' % (DIR_WRITE, 'Table_2'))\n",
    "correlations_all_combined.to_excel(writer)\n",
    "writer.save()"
   ]
  },
  {
   "cell_type": "markdown",
   "metadata": {},
   "source": [
    "### Supplementary_Table 2"
   ]
  },
  {
   "cell_type": "code",
   "execution_count": null,
   "metadata": {},
   "outputs": [],
   "source": [
    "pars = ['VThf_kg', 'VThf_set_kg', 'VThf_diff_kg']\n",
    "\n",
    "stats_5min_median_1_selection = {}\n",
    "\n",
    "for par in pars:\n",
    "    a = pd.concat([stats_5min_median_1[par]['50%'], stats_5min_median_1[par]['5%'], \n",
    "                   stats_5min_median_1[par]['95%']], axis = 1)\n",
    "    a.columns = ['median', '5th pc', '95th pc']\n",
    "    stats_5min_median_1_selection[par] = a\n",
    "    \n",
    "stats_5min_median_1_selection = pd.concat(stats_5min_median_1_selection, axis = 1)\n",
    "stats_5min_median_1_selection = stats_5min_median_1_selection[pars]\n",
    "stats_5min_median_1_selection = round(stats_5min_median_1_selection, 1)\n",
    "stats_5min_median_1_selection"
   ]
  },
  {
   "cell_type": "code",
   "execution_count": null,
   "metadata": {},
   "outputs": [],
   "source": [
    "writer = pd.ExcelWriter('%s/%s.xlsx' % (DIR_WRITE, 'Supplementary_Table_2'))\n",
    "stats_5min_median_1_selection.to_excel(writer, '5min_medians')\n",
    "writer.save()"
   ]
  },
  {
   "cell_type": "markdown",
   "metadata": {},
   "source": [
    "### Supplementary Table 3"
   ]
  },
  {
   "cell_type": "code",
   "execution_count": null,
   "metadata": {},
   "outputs": [],
   "source": [
    "to_keep = [ 'DCO2_kg2', 'VThf_kg', 'pCO2','sample', 'recording']\n",
    "\n",
    "parameters_median_selected = parameters_median[to_keep]\n",
    "parameters_median_selected.head()"
   ]
  },
  {
   "cell_type": "code",
   "execution_count": null,
   "metadata": {},
   "outputs": [],
   "source": [
    "writer = pd.ExcelWriter('%s/%s.xlsx' % (DIR_WRITE, 'Supplementary_Table_3'))\n",
    "parameters_median_selected.to_excel(writer)\n",
    "writer.save()"
   ]
  },
  {
   "cell_type": "markdown",
   "metadata": {},
   "source": [
    "### Supplementary Table 4"
   ]
  },
  {
   "cell_type": "code",
   "execution_count": null,
   "metadata": {},
   "outputs": [],
   "source": [
    "number_of_gases = DataFrame(parameters_median.groupby('recording').size())\n",
    "number_of_gases.columns = ['number of gases']\n",
    "number_of_gases"
   ]
  },
  {
   "cell_type": "code",
   "execution_count": null,
   "metadata": {},
   "outputs": [],
   "source": [
    "VThf_kg_values"
   ]
  },
  {
   "cell_type": "code",
   "execution_count": null,
   "metadata": {},
   "outputs": [],
   "source": [
    "correlations[['VThf_kg']]"
   ]
  },
  {
   "cell_type": "code",
   "execution_count": null,
   "metadata": {},
   "outputs": [],
   "source": [
    "correlations_combined = pd.concat([number_of_gases, frequency_values, \n",
    "                                   VThf_kg_values, correlations[['VThf_kg']]], axis = 1)"
   ]
  },
  {
   "cell_type": "code",
   "execution_count": null,
   "metadata": {},
   "outputs": [],
   "source": [
    "correlations_combined"
   ]
  },
  {
   "cell_type": "code",
   "execution_count": null,
   "metadata": {},
   "outputs": [],
   "source": [
    "writer = pd.ExcelWriter('%s/%s.xlsx' % (DIR_WRITE, 'Supplementary_Table_4'))\n",
    "correlations_combined.to_excel(writer)\n",
    "writer.save()"
   ]
  },
  {
   "cell_type": "markdown",
   "metadata": {},
   "source": [
    "___"
   ]
  },
  {
   "cell_type": "markdown",
   "metadata": {},
   "source": [
    "## Figures"
   ]
  },
  {
   "cell_type": "markdown",
   "metadata": {},
   "source": [
    "### Figure 1"
   ]
  },
  {
   "cell_type": "markdown",
   "metadata": {},
   "source": [
    "##### Figure 1A"
   ]
  },
  {
   "cell_type": "code",
   "execution_count": null,
   "metadata": {},
   "outputs": [],
   "source": [
    "bins = [0, 1, 1.5, 2, 2.5, 3, 3.5, 4.0]\n",
    "cats_VThf_kg = pd.cut(slow_measurements_all.VThf_kg, bins = bins, right = False)\n",
    "cats_VThf_kg.value_counts().sort_index()"
   ]
  },
  {
   "cell_type": "code",
   "execution_count": null,
   "metadata": {},
   "outputs": [],
   "source": [
    "cats_VThf_set_kg = pd.cut(slow_measurements_all.VThf_set_kg, bins, right = False)\n",
    "cats_VThf_set_kg.value_counts().sort_index()"
   ]
  },
  {
   "cell_type": "code",
   "execution_count": null,
   "metadata": {
    "scrolled": false
   },
   "outputs": [],
   "source": [
    "xlabels = ['0-1', '1-1.5', '1.5-2', '2-2.5', '2.5-3', '3-3.5', '3.5-4',]\n",
    "ylabels = ['0', r'2x10$^5$', r'4x10$^5$', r'6x10$^5$' , r'8x10$^5$'  , r'10$^6$', r'1.2x10$^6$', r'1.4x10$^6$',\n",
    "           r'1.6x10$^6$']\n",
    "xticks = np.arange(len(xlabels))\n",
    "width = 0.3\n",
    "\n",
    "fig, ax = plt.subplots(figsize = [8,4])\n",
    "plt.bar(xticks, cats_VThf_kg.value_counts().sort_index().values, \n",
    "            width=width, color='black', alpha  = 1, align = 'center', label = 'actual VThf' )\n",
    "plt.bar(xticks+width, cats_VThf_set_kg.value_counts().sort_index().values, hatch = '////',\n",
    "                   width=width, color='white', alpha  = 1, align = 'center', label = 'target VThf' )\n",
    "\n",
    "ax.set_xlabel('range (mL/kg)', size = 14)\n",
    "ax.set_xticks(xticks+width/2)\n",
    "ax.set_xticklabels(xlabels, size = 14, rotation = 0)\n",
    "ax.set_yticklabels(ylabels, rotation = 0, size =14)\n",
    "ax.set_ylabel('number of seconds', size = 14)\n",
    "ax.set_xlim(0.5, len(xlabels))\n",
    "ax.tick_params(which = 'both', labelsize=14,)\n",
    "ax.legend(['actual VThf', 'target VThf'])\n",
    "ax.set_title('VThf', size = 14)\n",
    "plt.tight_layout()\n",
    "plt.grid('on')\n",
    "\n",
    "fig.savefig('%s/%s.%s' % (DIR_WRITE, 'Figure_1A', 'jpg'),\n",
    "    dpi = 300, facecolor='w', edgecolor='w', orientation='portrait', papertype=None, format = 'jpg',\n",
    "    transparent=False, bbox_inches=None, pad_inches=0.1, frameon=True);"
   ]
  },
  {
   "cell_type": "markdown",
   "metadata": {},
   "source": [
    "##### Figure 1B"
   ]
  },
  {
   "cell_type": "code",
   "execution_count": null,
   "metadata": {
    "scrolled": false
   },
   "outputs": [],
   "source": [
    "bins = [0, 0.1, 0.2, 0.3, 0.4, 0.5, 1, 2, 4]\n",
    "cats_VThf_diff_kg = pd.cut(slow_measurements_all.VThf_diff_kg, bins, right = False)\n",
    "cats_VThf_diff_kg.value_counts().sort_index()"
   ]
  },
  {
   "cell_type": "code",
   "execution_count": null,
   "metadata": {},
   "outputs": [],
   "source": [
    "xlabels = ['0-0.1', '0.1-0.2', '0.2-0.3', '0.3-0.4', '0.4-0.5', '0.5-1', '1-2', '2-4']\n",
    "ylabels = ['0', r'5x10$^5$', r'10$^6$', r'1.5x10$^6$', r'2x10$^6$', r'2.5x10$^6$']\n",
    "\n",
    "\n",
    "fig, ax = plt.subplots(figsize = [8,4])\n",
    "cats_VThf_diff_kg.value_counts().sort_index().plot(kind = 'bar', logy = False, \n",
    "                        title = 'Deviation from target VThf', color = 'black', fontsize = 14)\n",
    "\n",
    "ax.set_xlabel('range (mL/kg)', size = 14)\n",
    "\n",
    "ax.set_xticklabels(xlabels, rotation = 0, size =14)\n",
    "ax.set_yticklabels(ylabels, rotation = 0, size =14)\n",
    "ax.set_ylabel('number of seconds', size = 14)\n",
    "\n",
    "plt.grid('on')\n",
    "plt.tight_layout()\n",
    "\n",
    "fig.savefig('%s/%s.%s' % (DIR_WRITE, 'Figure_1B', 'jpg'),\n",
    "    dpi = 300, facecolor='w', edgecolor='w', orientation='portrait', papertype=None, format = 'jpg',\n",
    "    transparent=False, bbox_inches=None, pad_inches=0.1, frameon=True);"
   ]
  },
  {
   "cell_type": "markdown",
   "metadata": {},
   "source": [
    "#### Figure 1 combined"
   ]
  },
  {
   "cell_type": "code",
   "execution_count": null,
   "metadata": {
    "scrolled": false
   },
   "outputs": [],
   "source": [
    "dpi = 300\n",
    "filetype = 'tif'\n",
    "\n",
    "fig, ax = plt.subplots(2, 1, figsize = [8, 8])\n",
    "fig.subplots_adjust(left=0.1, bottom=0.1, right=0.9, top=0.9, \n",
    "                                        hspace=0.4, wspace=0.2)\n",
    "\n",
    "# Figure 1A\n",
    "\n",
    "xlabels = ['0-1', '1-1.5', '1.5-2', '2-2.5', '2.5-3', '3-3.5', '3.5-4',]\n",
    "ylabels = ['0', r'2x10$^5$', r'4x10$^5$', r'6x10$^5$' , r'8x10$^5$'  , r'10$^6$', r'1.2x10$^6$', r'1.4x10$^6$',\n",
    "           r'1.6x10$^6$']\n",
    "xticks = np.arange(len(xlabels))\n",
    "width = 0.3\n",
    "\n",
    "ax[0].bar(xticks, cats_VThf_kg.value_counts().sort_index().values, \n",
    "            width=width, color='black', alpha  = 1, align = 'center', label = 'actual VThf' )\n",
    "ax[0].bar(xticks+width, cats_VThf_set_kg.value_counts().sort_index().values,\n",
    "        hatch = '////', width=width, color='white', alpha  = 1, align = 'center', label = 'target VThf' )\n",
    "\n",
    "ax[0].set_xlabel('range (mL/kg)', size = 14)\n",
    "ax[0].set_xticks(xticks+width/2)\n",
    "ax[0].set_xticklabels(xlabels, size = 14, rotation = 0)\n",
    "ax[0].set_yticklabels(ylabels, rotation = 0, size =14)\n",
    "ax[0].set_ylabel('number of seconds', size = 14)\n",
    "ax[0].set_xlim(0.5, len(xlabels))\n",
    "ax[0].tick_params(which = 'both', labelsize=14,)\n",
    "ax[0].legend(['actual VThf', 'target VThf'])\n",
    "ax[0].set_title('VThf', size = 14)\n",
    "#ax[0].grid('on')\n",
    "plt.tight_layout()\n",
    "\n",
    "# Figure 1B\n",
    "\n",
    "xlabels = ['0-0.1', '0.1-0.2', '0.2-0.3', '0.3-0.4', '0.4-0.5', '0.5-1', '1-2', '2-4']\n",
    "ylabels = ['0', r'5x10$^5$', r'10$^6$', r'1.5x10$^6$', r'2x10$^6$', r'2.5x10$^6$']\n",
    "\n",
    "\n",
    "cats_VThf_diff_kg.value_counts().sort_index().plot(kind = 'bar', ax = ax[1], logy = False, \n",
    "            title = 'Deviation from target VThf', color = 'black', fontsize = 14)\n",
    "\n",
    "ax[1].set_xlabel('range (mL/kg)', size = 14)\n",
    "ax[1].set_xticklabels(xlabels, rotation = 0, size =14)\n",
    "ax[1].set_yticklabels(ylabels, rotation = 0, size =14)\n",
    "ax[1].set_ylabel('number of seconds', size = 14)\n",
    "#plt.grid('on')\n",
    "plt.tight_layout()\n",
    "\n",
    "fig.text(0.02, 0.97, 'A', fontsize = 16); fig.text(0.02, 0.5, 'B', fontsize = 18)\n",
    "\n",
    "fig.savefig('%s/%s.%s' % (DIR_WRITE, 'Figure_1', filetype),\n",
    "    dpi = 300, facecolor='w', edgecolor='w', orientation='portrait', papertype=None, format = filetype,\n",
    "    transparent=False, bbox_inches=None, pad_inches=0.1, frameon=True);"
   ]
  },
  {
   "cell_type": "markdown",
   "metadata": {},
   "source": [
    "### Figure 2"
   ]
  },
  {
   "cell_type": "markdown",
   "metadata": {},
   "source": [
    "##### Figure 2A"
   ]
  },
  {
   "cell_type": "code",
   "execution_count": null,
   "metadata": {},
   "outputs": [],
   "source": [
    "import matplotlib.dates as mdates\n",
    "\n",
    "recording = 'DG022'\n",
    "ylim = [0,6]\n",
    "\n",
    "par = ['VThf_kg', 'VThf_set_kg']\n",
    "ylabel = 'mL/kg'\n",
    "title = 'VThf'\n",
    "legend = ['VThf', 'target VThf']\n",
    "dpi = 300\n",
    "filetype = 'jpg'\n",
    "graphcol = ['blue', 'black']\n",
    "\n",
    "fig = plt.figure()\n",
    "fig.set_size_inches(8, 4)\n",
    "fig.subplots_adjust(left=None, bottom=0.2, right=None, top=None, wspace=None, hspace=None)\n",
    "ax = fig.add_subplot(1, 1, 1)\n",
    "\n",
    "slow_measurements[recording][par[0]].plot(ax = ax, color = graphcol[0])\n",
    "slow_measurements[recording][par[1]].plot(ax = ax, color = graphcol[1], linewidth = 2)\n",
    "\n",
    "ax.set_xlabel('Time (hours)', size = 12, color = 'black')\n",
    "ax.set_ylabel(ylabel, size = 12, color = 'black')\n",
    "ax.legend(legend, fontsize = 12)\n",
    "ax.grid('on', linestyle='-', linewidth=0.5, color = 'gray')\n",
    "ax.tick_params(which = 'both', labelsize=12,)\n",
    "ax.set_ylim(ylim)\n",
    "ax.xaxis.set_major_locator(mdates.HourLocator(interval = interval))\n",
    "ax.xaxis.set_major_formatter(mdates.DateFormatter('%H:%M'))\n",
    "fig.autofmt_xdate()\n",
    "labels = ax.get_xticklabels()\n",
    "plt.setp(labels, rotation=0, fontsize=12, ha = 'center')\n",
    "plt.tight_layout()\n",
    "        \n",
    "fig.savefig('%s/%s.%s' % (DIR_WRITE, 'Figure_2A', filetype),\n",
    "            dpi = dpi, facecolor='w', orientation='portrait', format = filetype,\n",
    "            pad_inches=0.1, frameon=True);"
   ]
  },
  {
   "cell_type": "markdown",
   "metadata": {},
   "source": [
    "##### Figure 2B"
   ]
  },
  {
   "cell_type": "code",
   "execution_count": null,
   "metadata": {},
   "outputs": [],
   "source": [
    "import matplotlib.dates as mdates\n",
    "\n",
    "recording = 'DG032_2'\n",
    "ylim = [0,5]\n",
    "\n",
    "par = ['VThf_kg', 'VThf_set_kg']\n",
    "ylabel = 'mL/kg'\n",
    "title = 'VThf'\n",
    "legend = ['VThf', 'target VThf']\n",
    "dpi = 300\n",
    "filetype = 'jpg'\n",
    "graphcol = ['blue', 'black']\n",
    "\n",
    "fig = plt.figure()\n",
    "fig.set_size_inches(8, 4)\n",
    "fig.subplots_adjust(left=None, bottom=0.2, right=None, top=None, wspace=None, hspace=None)\n",
    "ax = fig.add_subplot(1, 1, 1)\n",
    "\n",
    "slow_measurements[recording][par[0]].plot(ax = ax, color = graphcol[0])\n",
    "slow_measurements[recording][par[1]].plot(ax = ax, color = graphcol[1], linewidth = 2)\n",
    "\n",
    "ax.set_xlabel('Time (hours)', size = 12, color = 'black')\n",
    "ax.set_ylabel(ylabel, size = 12, color = 'black')\n",
    "ax.legend(legend, fontsize = 12)\n",
    "ax.grid('on', linestyle='-', linewidth=0.5, color = 'gray')\n",
    "ax.tick_params(which = 'both', labelsize=12,)\n",
    "ax.set_ylim(ylim)\n",
    "ax.xaxis.set_major_locator(mdates.HourLocator(interval = interval))\n",
    "ax.xaxis.set_major_formatter(mdates.DateFormatter('%H:%M'))\n",
    "fig.autofmt_xdate()\n",
    "labels = ax.get_xticklabels()\n",
    "plt.setp(labels, rotation=0, fontsize=12, ha = 'center')\n",
    "plt.tight_layout()\n",
    "        \n",
    "fig.savefig('%s/%s.%s' % (DIR_WRITE, 'Figure_2B', filetype),\n",
    "            dpi = dpi, facecolor='w', orientation='portrait', format = filetype,\n",
    "            pad_inches=0.1, frameon=True);"
   ]
  },
  {
   "cell_type": "markdown",
   "metadata": {},
   "source": [
    "##### Figure 2C"
   ]
  },
  {
   "cell_type": "code",
   "execution_count": null,
   "metadata": {},
   "outputs": [],
   "source": [
    "import matplotlib.dates as mdates\n",
    "\n",
    "recording = 'DG022'\n",
    "ylim = [0,6]\n",
    "\n",
    "par = ['VThf_kg', 'VThf_set_kg']\n",
    "ylabel = 'mL/kg'\n",
    "title = 'VThf'\n",
    "legend = ['VThf', 'target VThf']\n",
    "dpi = 300\n",
    "filetype = 'jpg'\n",
    "graphcol = ['blue', 'black']\n",
    "\n",
    "fig = plt.figure()\n",
    "fig.set_size_inches(8, 4)\n",
    "fig.subplots_adjust(left=None, bottom=0.2, right=None, top=None, wspace=None, hspace=None)\n",
    "ax = fig.add_subplot(1, 1, 1)\n",
    "\n",
    "slow_measurements_5min_median[recording][par[0]].plot(ax = ax, color = graphcol[0])\n",
    "slow_measurements_5min_median[recording][par[1]].plot(ax = ax, color = graphcol[1], \n",
    "                                                      linewidth = 2, linestyle = '--')\n",
    "ax.set_xlabel('Time (hours)', size = 12, color = 'black')\n",
    "ax.set_ylabel(ylabel, size = 12, color = 'black')\n",
    "ax.legend(legend, fontsize = 12)\n",
    "ax.grid('on', linestyle='-', linewidth=0.5, color = 'gray')\n",
    "ax.tick_params(which = 'both', labelsize=12,)\n",
    "ax.set_ylim(ylim)\n",
    "labels = ax.get_xticklabels()\n",
    "plt.setp(labels, rotation=0, fontsize=12, ha = 'center')\n",
    "plt.grid('on', which = 'both')\n",
    "plt.tight_layout()\n",
    "        \n",
    "fig.savefig('%s/%s.%s' % (DIR_WRITE, 'Figure_2C', filetype),\n",
    "            dpi = dpi, facecolor='w', orientation='portrait', format = filetype,\n",
    "            pad_inches=0.1, frameon=True);"
   ]
  },
  {
   "cell_type": "markdown",
   "metadata": {},
   "source": [
    "##### Figure 2D"
   ]
  },
  {
   "cell_type": "code",
   "execution_count": null,
   "metadata": {},
   "outputs": [],
   "source": [
    "import matplotlib.dates as mdates\n",
    "\n",
    "recording = 'DG032_2'\n",
    "ylim = [0,5]\n",
    "\n",
    "par = ['VThf_kg', 'VThf_set_kg']\n",
    "ylabel = 'mL/kg'\n",
    "title = 'VThf'\n",
    "legend = ['VThf', 'target VThf']\n",
    "dpi = 300\n",
    "filetype = 'jpg'\n",
    "graphcol = ['blue', 'black']\n",
    "\n",
    "fig = plt.figure()\n",
    "fig.set_size_inches(8, 4)\n",
    "fig.subplots_adjust(left=None, bottom=0.2, right=None, top=None, wspace=None, hspace=None)\n",
    "ax = fig.add_subplot(1, 1, 1)\n",
    "\n",
    "slow_measurements_5min_median[recording][par[0]].plot(ax = ax, color = graphcol[0])\n",
    "slow_measurements_5min_median[recording][par[1]].plot(ax = ax, color = graphcol[1], \n",
    "                                                      linewidth = 2, linestyle = '--')\n",
    "ax.set_xlabel('Time (hours)', size = 12, color = 'black')\n",
    "ax.set_ylabel(ylabel, size = 12, color = 'black')\n",
    "ax.legend(legend, fontsize = 12)\n",
    "ax.grid('on', linestyle='-', linewidth=0.5, color = 'gray')\n",
    "ax.tick_params(which = 'both', labelsize=12,)\n",
    "ax.set_ylim(ylim)\n",
    "labels = ax.get_xticklabels()\n",
    "plt.setp(labels, rotation=0, fontsize=12, ha = 'center')\n",
    "plt.grid('on', which = 'both')\n",
    "plt.tight_layout()\n",
    "        \n",
    "fig.savefig('%s/%s.%s' % (DIR_WRITE, 'Figure_2D', filetype),\n",
    "            dpi = dpi, facecolor='w', orientation='portrait', format = filetype,\n",
    "            pad_inches=0.1, frameon=True);"
   ]
  },
  {
   "cell_type": "markdown",
   "metadata": {},
   "source": [
    "##### Figure 2E"
   ]
  },
  {
   "cell_type": "code",
   "execution_count": null,
   "metadata": {},
   "outputs": [],
   "source": [
    "import matplotlib.dates as mdates\n",
    "\n",
    "recording = 'DG022'\n",
    "ylim = [0,65]\n",
    "\n",
    "par = ['amplitude', 'dPmax_set']\n",
    "ylabel = 'mbar'\n",
    "title = 'VThf'\n",
    "legend = ['Amplitude', 'Ampl. max']\n",
    "dpi = 300\n",
    "filetype = 'jpg'\n",
    "graphcol = ['red', 'black']\n",
    "\n",
    "fig = plt.figure()\n",
    "fig.set_size_inches(8, 4)\n",
    "fig.subplots_adjust(left=None, bottom=0.2, right=None, top=None, wspace=None, hspace=None)\n",
    "ax = fig.add_subplot(1, 1, 1)\n",
    "\n",
    "slow_measurements[recording][par[0]].plot(ax = ax, color = graphcol[0])\n",
    "slow_measurements[recording][par[1]].plot(ax = ax, color = graphcol[1], linewidth = 2)\n",
    "\n",
    "ax.set_xlabel('Time (hours)', size = 12, color = 'black')\n",
    "ax.set_ylabel(ylabel, size = 12, color = 'black')\n",
    "ax.legend(legend, fontsize = 12)\n",
    "ax.grid('on', linestyle='-', linewidth=0.5, color = 'gray')\n",
    "ax.tick_params(which = 'both', labelsize=12,)\n",
    "ax.set_ylim(ylim)\n",
    "ax.xaxis.set_major_locator(mdates.HourLocator(interval = interval))\n",
    "ax.xaxis.set_major_formatter(mdates.DateFormatter('%H:%M'))\n",
    "fig.autofmt_xdate()\n",
    "labels = ax.get_xticklabels()\n",
    "plt.setp(labels, rotation=0, fontsize=12, ha = 'center')\n",
    "plt.tight_layout()\n",
    "        \n",
    "fig.savefig('%s/%s.%s' % (DIR_WRITE, 'Figure_2E', filetype),\n",
    "            dpi = dpi, facecolor='w', orientation='portrait', format = filetype,\n",
    "            pad_inches=0.1, frameon=True);"
   ]
  },
  {
   "cell_type": "markdown",
   "metadata": {},
   "source": [
    "##### Figure 2F"
   ]
  },
  {
   "cell_type": "code",
   "execution_count": null,
   "metadata": {},
   "outputs": [],
   "source": [
    "import matplotlib.dates as mdates\n",
    "\n",
    "recording = 'DG032_2'\n",
    "ylim = [0,65]\n",
    "\n",
    "par = ['amplitude', 'dPmax_set']\n",
    "ylabel = 'mbar'\n",
    "title = 'VThf'\n",
    "legend = ['Amplitude', 'Ampl. max']\n",
    "dpi = 300\n",
    "filetype = 'jpg'\n",
    "graphcol = ['red', 'black']\n",
    "\n",
    "fig = plt.figure()\n",
    "fig.set_size_inches(8, 4)\n",
    "fig.subplots_adjust(left=None, bottom=0.2, right=None, top=None, wspace=None, hspace=None)\n",
    "ax = fig.add_subplot(1, 1, 1)\n",
    "\n",
    "slow_measurements[recording][par[0]].plot(ax = ax, color = graphcol[0])\n",
    "slow_measurements[recording][par[1]].plot(ax = ax, color = graphcol[1], linewidth = 2)\n",
    "\n",
    "ax.set_xlabel('Time (hours)', size = 12, color = 'black')\n",
    "ax.set_ylabel(ylabel, size = 12, color = 'black')\n",
    "ax.legend(legend, fontsize = 12)\n",
    "ax.grid('on', linestyle='-', linewidth=0.5, color = 'gray')\n",
    "ax.tick_params(which = 'both', labelsize=12,)\n",
    "ax.set_ylim(ylim)\n",
    "ax.xaxis.set_major_locator(mdates.HourLocator(interval = interval))\n",
    "ax.xaxis.set_major_formatter(mdates.DateFormatter('%H:%M'))\n",
    "fig.autofmt_xdate()\n",
    "labels = ax.get_xticklabels()\n",
    "plt.setp(labels, rotation=0, fontsize=12, ha = 'center')\n",
    "plt.tight_layout()\n",
    "        \n",
    "fig.savefig('%s/%s.%s' % (DIR_WRITE, 'Figure_2F', filetype),\n",
    "            dpi = dpi, facecolor='w', orientation='portrait', format = filetype,\n",
    "            pad_inches=0.1, frameon=True);"
   ]
  },
  {
   "cell_type": "markdown",
   "metadata": {},
   "source": [
    "#### Figure 2 combined"
   ]
  },
  {
   "cell_type": "code",
   "execution_count": null,
   "metadata": {},
   "outputs": [],
   "source": [
    "import matplotlib.dates as mdates\n",
    "\n",
    "dpi = 300\n",
    "filetype = 'tiff'\n",
    "interval = 12\n",
    "\n",
    "fig, ax = plt.subplots(3, 2, figsize = (10, 8))\n",
    "fig.subplots_adjust(left=None, bottom=None, right=None, top=None, hspace=0.2, wspace=0.3)\n",
    "\n",
    "\n",
    "par = ['VThf_kg', 'VThf_set_kg']\n",
    "ylabel = 'mL/kg'\n",
    "title = 'VThf'\n",
    "legend = ['VThf', 'target VThf']\n",
    "\n",
    "# Figure 2A\n",
    "recording = 'DG022'\n",
    "ylim = [0,6]\n",
    "interval = 12\n",
    "\n",
    "slow_measurements[recording][par[0]].plot(ax = ax[0,0], color = 'blue')\n",
    "slow_measurements[recording][par[1]].plot(ax = ax[0,0], color = 'black', linewidth = 2)\n",
    "\n",
    "ax[0,0].set_ylabel(ylabel, size = 12, color = 'black')\n",
    "ax[0,0].legend(legend, fontsize = 12)\n",
    "ax[0,0].grid('on', linestyle='-', linewidth=0.5, color = 'gray')\n",
    "ax[0,0].tick_params(which = 'both', labelsize=12,)\n",
    "ax[0,0].set_ylim(ylim)\n",
    "ax[0,0].get_xaxis().set_visible(False)\n",
    "\n",
    "# Figure 2B\n",
    "recording = 'DG032_2'\n",
    "ylim = [0,5]\n",
    "interval = 6\n",
    "\n",
    "slow_measurements[recording][par[0]].plot(ax = ax[0,1], color = 'blue')\n",
    "slow_measurements[recording][par[1]].plot(ax = ax[0,1], color = 'black', linewidth = 2)\n",
    "\n",
    "ax[0,1].set_ylabel(ylabel, size = 12, color = 'black')\n",
    "ax[0,1].legend(legend, fontsize = 12)\n",
    "ax[0,1].grid('on', linestyle='-', linewidth=0.5, color = 'gray')\n",
    "ax[0,1].tick_params(which = 'both', labelsize=12,)\n",
    "ax[0,1].set_ylim(ylim)\n",
    "ax[0,1].get_xaxis().set_visible(False)\n",
    "\n",
    "\n",
    "# Figure 2C\n",
    "recording = 'DG022'\n",
    "ylim = [0,6]\n",
    "interval = 12\n",
    "\n",
    "slow_measurements_5min_median[recording][par[0]].plot(ax = ax[1,0], color = 'blue')\n",
    "slow_measurements_5min_median[recording][par[1]].plot(ax = ax[1,0], color = 'black', \n",
    "                                                      linewidth = 2, linestyle = '--')\n",
    "\n",
    "ax[1,0].set_ylabel(ylabel, size = 12, color = 'black')\n",
    "ax[1,0].legend(legend, fontsize = 12)\n",
    "ax[1,0].grid('on', linestyle='-', linewidth=0.5, color = 'gray')\n",
    "ax[1,0].tick_params(which = 'both', labelsize=12,)\n",
    "ax[1,0].set_ylim(ylim)\n",
    "ax[1,0].get_xaxis().set_visible(False)\n",
    "\n",
    "# Figure 2D\n",
    "recording = 'DG032_2'\n",
    "ylim = [0,5]\n",
    "interval = 6\n",
    "\n",
    "slow_measurements_5min_median[recording][par[0]].plot(ax = ax[1,1], color = 'blue')\n",
    "slow_measurements_5min_median[recording][par[1]].plot(ax = ax[1,1], color = 'black', \n",
    "                                                      linewidth = 2, linestyle = '--')\n",
    "ax[1,1].set_ylabel(ylabel, size = 12, color = 'black')\n",
    "ax[1,1].legend(legend, fontsize = 12)\n",
    "ax[1,1].grid('on', linestyle='-', linewidth=0.5, color = 'gray')\n",
    "ax[1,1].tick_params(which = 'both', labelsize=12,)\n",
    "ax[1,1].set_ylim(ylim)\n",
    "ax[1,1].get_xaxis().set_visible(False)\n",
    "\n",
    "par = ['amplitude', 'dPmax_set']\n",
    "ylabel = 'mbar'\n",
    "title = 'VThf'\n",
    "legend = ['Amplitude', 'Ampl. max']\n",
    "graphcol = ['red', 'black']\n",
    "\n",
    "# Figure 2E\n",
    "recording = 'DG022'\n",
    "ylim = [0,65]\n",
    "interval = 12\n",
    "\n",
    "slow_measurements[recording][par[0]].plot(ax = ax[2,0], color = 'red')\n",
    "slow_measurements[recording][par[1]].plot(ax = ax[2,0], color = 'black', linewidth = 2)\n",
    "\n",
    "ax[2,0].set_xlabel('Time (hours)', size = 12, color = 'black')\n",
    "ax[2,0].set_ylabel(ylabel, size = 12, color = 'black')\n",
    "ax[2,0].legend(legend, fontsize = 12)\n",
    "ax[2,0].grid('on', linestyle='-', linewidth=0.5, color = 'gray')\n",
    "ax[2,0].tick_params(which = 'both', labelsize=12)\n",
    "ax[2,0].set_ylim(ylim)\n",
    "ax[2,0].xaxis.set_major_locator(mdates.HourLocator(interval = interval))\n",
    "ax[2,0].xaxis.set_major_formatter(mdates.DateFormatter('%H:%M'))\n",
    "labels = ax[2,0].get_xticklabels()\n",
    "plt.setp(labels, rotation=0, fontsize=12, ha = 'center')\n",
    "\n",
    "# Figure 2F\n",
    "recording = 'DG032_2'\n",
    "ylim = [0,65]\n",
    "interval = 6\n",
    "\n",
    "slow_measurements[recording][par[0]].plot(ax = ax[2,1], color = 'red')\n",
    "slow_measurements[recording][par[1]].plot(ax = ax[2,1], color = 'black', linewidth = 2)\n",
    "\n",
    "ax[2,1].set_xlabel('Time (hours)', size = 12, color = 'black')\n",
    "ax[2,1].set_ylabel(ylabel, size = 12, color = 'black')\n",
    "ax[2,1].legend(legend, fontsize = 12)\n",
    "ax[2,1].grid('on', linestyle='-', linewidth=0.5, color = 'gray')\n",
    "ax[2,1].tick_params(which = 'both', labelsize=12)\n",
    "ax[2,1].set_ylim(ylim)\n",
    "ax[2,1].xaxis.set_major_locator(mdates.HourLocator(interval = interval))\n",
    "ax[2,1].xaxis.set_major_formatter(mdates.DateFormatter('%H:%M'))\n",
    "labels = ax[2,1].get_xticklabels()\n",
    "plt.setp(labels, rotation=0, fontsize=12, ha = 'center')\n",
    "\n",
    "fig.text(0.02, 0.97, 'A', fontsize = 16); fig.text(0.02, 0.67, 'C', fontsize = 18)\n",
    "fig.text(0.02, 0.35, 'E', fontsize = 18); fig.text(0.51, 0.97, 'B', fontsize = 18)\n",
    "fig.text(0.51, 0.67, 'D', fontsize = 18); fig.text(0.51, 0.35, 'F', fontsize = 18) \n",
    "\n",
    "plt.tight_layout()\n",
    "\n",
    "fig.savefig('%s/%s.%s' % (DIR_WRITE, 'Figure_2', filetype),\n",
    "    dpi = dpi, facecolor='w', edgecolor='w', orientation='portrait', papertype=None, format = filetype,\n",
    "    transparent=False, bbox_inches=None, pad_inches=0.1, frameon=True);    "
   ]
  },
  {
   "cell_type": "markdown",
   "metadata": {},
   "source": [
    "### Figure 3"
   ]
  },
  {
   "cell_type": "markdown",
   "metadata": {},
   "source": [
    "##### Figure 3A"
   ]
  },
  {
   "cell_type": "code",
   "execution_count": null,
   "metadata": {},
   "outputs": [],
   "source": [
    "import matplotlib.dates as mdates\n",
    "\n",
    "recording = 'DG005_1'\n",
    "start = '2015-10-14 05:00:00'\n",
    "end = '2015-10-14 08:00:00'\n",
    "\n",
    "par = ['amplitude', 'dPmax_set']\n",
    "ylabel = 'mbar'\n",
    "legend = ['Amplitude', 'Ampl. max']\n",
    "ylim = [0,65]\n",
    "\n",
    "dpi = 300\n",
    "filetype = 'jpg'\n",
    "\n",
    "fig = plt.figure()\n",
    "fig.set_size_inches(8, 4)\n",
    "fig.subplots_adjust(left=None, bottom=0.2, right=None, top=None, wspace=None, hspace=None)\n",
    "ax = fig.add_subplot(1, 1, 1)\n",
    "\n",
    "slow_measurements[recording][start : end][par[0]].plot(ax = ax, color = 'red')\n",
    "ax.axhline(y = 40,  linewidth = 2, linestyle = '--', color = 'black')\n",
    "\n",
    "ax.set_xlabel('Time (hours)', size = 12, color = 'black')\n",
    "ax.set_ylabel(ylabel, size = 12, color = 'black')\n",
    "ax.legend(legend, fontsize = 12)\n",
    "ax.grid('on', linestyle='-', linewidth=0.5, color = 'gray', which = 'both')\n",
    "ax.tick_params(which = 'both', labelsize=12,)\n",
    "ax.set_ylim(ylim)\n",
    "labels = ax.get_xticklabels()\n",
    "\n",
    "plt.setp(labels, rotation=0, fontsize=12, ha = 'center')\n",
    "plt.tight_layout()\n",
    "        \n",
    "fig.savefig('%s/%s.%s' % (DIR_WRITE, 'Figure_3A', filetype),\n",
    "            dpi = dpi, facecolor='w', orientation='portrait', format = filetype,\n",
    "            pad_inches=0.1, frameon=True);"
   ]
  },
  {
   "cell_type": "markdown",
   "metadata": {},
   "source": [
    "##### Figure 3B"
   ]
  },
  {
   "cell_type": "code",
   "execution_count": null,
   "metadata": {},
   "outputs": [],
   "source": [
    "import matplotlib.dates as mdates\n",
    "\n",
    "recording = 'DG005_1'\n",
    "start = '2015-10-14 05:00:00'\n",
    "end = '2015-10-14 08:00:00'\n",
    "\n",
    "par = ['VThf_kg', 'VThf_set_kg']\n",
    "ylabel = 'mL/kg'\n",
    "title = 'VThf'\n",
    "legend = ['VThf', 'target VThf']\n",
    "ylim = [0,3.5]\n",
    "\n",
    "dpi = 300\n",
    "filetype = 'jpg'\n",
    "\n",
    "fig = plt.figure()\n",
    "fig.set_size_inches(8, 4)\n",
    "fig.subplots_adjust(left=None, bottom=0.2, right=None, top=None, wspace=None, hspace=None)\n",
    "ax = fig.add_subplot(1, 1, 1)\n",
    "\n",
    "slow_measurements[recording][start : end][par[0]].plot(ax = ax, color = graphcol[0])\n",
    "slow_measurements[recording][start : end][par[1]].plot(ax = ax, color = graphcol[1], \n",
    "                                                       linestyle = '--', linewidth = 2)\n",
    "ax.set_xlabel('Time (hours)', size = 12, color = 'black')\n",
    "ax.set_ylabel(ylabel, size = 12, color = 'black')\n",
    "ax.legend(legend, fontsize = 12)\n",
    "ax.grid('on', linestyle='-', linewidth=0.5, color = 'gray', which = 'both')\n",
    "ax.tick_params(which = 'both', labelsize=12,)\n",
    "ax.set_ylim(ylim)\n",
    "labels = ax.get_xticklabels()\n",
    "\n",
    "plt.setp(labels, rotation=0, fontsize=12, ha = 'center')\n",
    "plt.tight_layout()\n",
    "        \n",
    "fig.savefig('%s/%s.%s' % (DIR_WRITE, 'Figure_3B', filetype),\n",
    "            dpi = dpi, facecolor='w', orientation='portrait', format = filetype,\n",
    "            pad_inches=0.1, frameon=True);"
   ]
  },
  {
   "cell_type": "markdown",
   "metadata": {},
   "source": [
    "#### Figure 3 combined"
   ]
  },
  {
   "cell_type": "code",
   "execution_count": null,
   "metadata": {},
   "outputs": [],
   "source": [
    "dpi = 300\n",
    "filetype = 'tiff'\n",
    "\n",
    "fig, ax = plt.subplots(2, 1, figsize = (6,6), dpi = dpi)\n",
    "fig.subplots_adjust(left=None, bottom=None, right=None, top=None, hspace=0.3, wspace=0.3)\n",
    "\n",
    "recording = 'DG005_1'\n",
    "start = '2015-10-14 05:00:00'\n",
    "end = '2015-10-14 08:00:00'\n",
    "\n",
    "# Figure 3A\n",
    "par = ['amplitude', 'dPmax_set']\n",
    "ylabel = 'mbar'\n",
    "legend = ['Amplitude', 'Ampl. max']\n",
    "ylim = [0,65]\n",
    "\n",
    "slow_measurements[recording][start : end][par[0]].plot(ax = ax[0], color = 'red')\n",
    "ax[0].axhline(y = 40,  linewidth = 2, linestyle = '--', color = 'black')\n",
    "\n",
    "ax[0].set_xlabel('Time (hours)', size = 12, color = 'black')\n",
    "ax[0].set_ylabel(ylabel, size = 12, color = 'black')\n",
    "ax[0].legend(legend, fontsize = 12)\n",
    "ax[0].grid('on', linestyle='-', linewidth=0.5, color = 'gray', which = 'both')\n",
    "ax[0].tick_params(which = 'both', labelsize=12,)\n",
    "ax[0].set_ylim(ylim)\n",
    "labels = ax[0].get_xticklabels()\n",
    "plt.setp(labels, rotation=0, fontsize=12, ha = 'center')\n",
    "plt.tight_layout()\n",
    "\n",
    "# Figure 3B\n",
    "par = ['VThf_kg', 'VThf_set_kg']\n",
    "ylabel = 'mL/kg'\n",
    "title = 'VThf'\n",
    "legend = ['VThf', 'target VThf']\n",
    "ylim = [0,3.5]\n",
    "\n",
    "slow_measurements[recording][start : end][par[0]].plot(ax = ax[1], color = 'blue')\n",
    "slow_measurements[recording][start : end][par[1]].plot(ax = ax[1], color = 'black', \n",
    "                                                       linestyle = '--', linewidth = 2)\n",
    "ax[1].set_xlabel('Time (hours)', size = 12, color = 'black')\n",
    "ax[1].set_ylabel(ylabel, size = 12, color = 'black')\n",
    "ax[1].legend(legend, fontsize = 12)\n",
    "ax[1].grid('on', linestyle='-', linewidth=0.5, color = 'gray', which = 'both')\n",
    "ax[1].tick_params(which = 'both', labelsize=12,)\n",
    "ax[1].set_ylim(ylim)\n",
    "labels = ax[1].get_xticklabels()\n",
    "plt.setp(labels, rotation=0, fontsize=12, ha = 'center')\n",
    "plt.tight_layout()\n",
    "\n",
    "fig.text(0.02, 0.97, 'A', fontsize = 16); fig.text(0.02, 0.5, 'B', fontsize = 18)\n",
    "        \n",
    "fig.savefig('%s/%s.%s' % (DIR_WRITE, 'Figure_3', filetype),\n",
    "            dpi = dpi, facecolor='w', orientation='portrait', format = filetype,\n",
    "            pad_inches=0.1, frameon=True);"
   ]
  },
  {
   "cell_type": "markdown",
   "metadata": {},
   "source": [
    "### Figure 4"
   ]
  },
  {
   "cell_type": "code",
   "execution_count": null,
   "metadata": {},
   "outputs": [],
   "source": [
    "def visualise_corr_mod_2(par, data = parameters_median, rec = recordings, arterial_only = False,\n",
    "                   filetype = 'jpg', dpi = 300, xlimoffset = None, ylimoffset = None, \n",
    "                   textboxoffset_x = None, textboxoffset_y = None, filename = 'graph'):\n",
    "    \n",
    "    '''\n",
    "    input:\n",
    "    - data = [DataFrame] containing ventilator parameters and pCO2 data\n",
    "    - rec = [list] of recordings the analysis should be limited to\n",
    "    - par = [string] name of ventilator parameters to study\n",
    "    - arterial_only = [boolean] if True, include only arterial blood gases\n",
    "    \n",
    "    Draws a scatter chart and shows Pearson's correlation betweeen PARAMETER and PCO2  \n",
    "    using data in recordings REC. Points belonging to different recordings\n",
    "    have different markers and colors.\n",
    "    A correlation line is also drawn.\n",
    "    It also calculates Spearman's correlation coefficient with confidence intervals and p-value. \n",
    "    Puts these data on the graph.\n",
    "    '''\n",
    "    \n",
    "    if arterial_only:\n",
    "        data = data[data['sample'] == 'Arteri...']\n",
    "                   \n",
    "    sample = data[data['recording'].isin(rec)]\n",
    "    # print(sample)\n",
    "    \n",
    "    if len(sample) == 0:\n",
    "        return\n",
    "     \n",
    "    fig = plt.figure()\n",
    "    fig.set_size_inches(8, 6)\n",
    "    ax = fig.add_subplot(1,1,1)\n",
    "    \n",
    "    for i, recording in enumerate(sample['recording'].unique()):\n",
    "        a = sample[sample['recording'] == recording][par]\n",
    "        #print(a)\n",
    "        b = sample[sample['recording'] == recording]['pCO2']\n",
    "        #print(b)\n",
    "        ax.scatter(a , b, color = colors[i], marker = markers[i], s = 40)\n",
    "    \n",
    "    plt.axvline(x= 2.5 , linewidth=1, linestyle = '--', color = 'black')\n",
    "    plt.axhline(y= 8,  linewidth=1, linestyle = '--', color = 'black')\n",
    "    \n",
    "    plt.ylabel(r'pCO$ \\rm _2$ (kPa)', fontsize  = 20)\n",
    "    plt.xlabel('VThf (mL/kg)', fontsize  = 20)\n",
    "    \n",
    "    plt.xlim(0, xlimoffset if xlimoffset else 4.5)\n",
    "    plt.ylim(0, ylimoffset if ylimoffset else 15)\n",
    "    plt.title('', fontsize = 14)\n",
    "    plt.grid('on')\n",
    "    ax.tick_params(axis='both', labelsize = 20)\n",
    "    \n",
    "    # Polynomial Coefficients\n",
    "    x = sample[par]\n",
    "    y = sample['pCO2']\n",
    "    \n",
    "    coeffs = np.polyfit(x, y, deg = 1)\n",
    "    result = coeffs.tolist()\n",
    "    \n",
    "    # Fit a trendline\n",
    "    l = np.poly1d(coeffs)\n",
    "    plt.plot(x,l(x),'r--')\n",
    "\n",
    "    # Calculate pearson's correlation coefficient with confidence intervals, coefficiet of determination and p value\n",
    "    r , lcl, ucl , r2, p = correl(x,y)\n",
    "    p = round(p, 4)\n",
    "\n",
    "    # print the equation on the graph area \n",
    "    \n",
    "    text = 'y= %.2fx + %.2f\\nr=%.2f (%.2f , %.2f)\\np=%.3f' % (result[0], result[1], r, lcl, ucl, p)\n",
    "\n",
    "    plt.text(textboxoffset_x if textboxoffset_x else 2.8,\n",
    "             textboxoffset_y if textboxoffset_y else 12.5, \n",
    "             text, color = 'black', style='normal', fontsize=14, \n",
    "             bbox={'facecolor':'white', 'edgecolor':'red', 'alpha':1, 'pad':10})\n",
    "    \n",
    "    text2 = 'y=%.2fx+(%.2f)   r=%.2f (%.2f , %.2f)   p=%.3f' % (result[0], result[1], r, lcl, ucl, p)\n",
    "    \n",
    "    plt.tight_layout()\n",
    "    \n",
    "    fig.savefig('%s/%s.%s' % (DIR_WRITE, filename, filetype), dpi = dpi, facecolor='w', edgecolor='w',\n",
    "        orientation='portrait', papertype=None, format = filetype)"
   ]
  },
  {
   "cell_type": "code",
   "execution_count": null,
   "metadata": {},
   "outputs": [],
   "source": [
    "visualise_corr_mod_2('VThf_kg', filename = 'Figure_4', filetype = 'tiff', dpi = 300)"
   ]
  }
 ],
 "metadata": {
  "anaconda-cloud": {},
  "kernelspec": {
   "display_name": "Python 3",
   "language": "python",
   "name": "python3"
  },
  "language_info": {
   "codemirror_mode": {
    "name": "ipython",
    "version": 3
   },
   "file_extension": ".py",
   "mimetype": "text/x-python",
   "name": "python",
   "nbconvert_exporter": "python",
   "pygments_lexer": "ipython3",
   "version": "3.7.1"
  }
 },
 "nbformat": 4,
 "nbformat_minor": 2
}
